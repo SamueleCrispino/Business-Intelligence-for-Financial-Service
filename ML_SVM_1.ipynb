{
 "cells": [
  {
   "cell_type": "markdown",
   "id": "08e6b8a1",
   "metadata": {
    "id": "08e6b8a1"
   },
   "source": [
    "#### Previsione del prezzo di Facebook con regressione lineare e support vector machine\n",
    "Dati scaricati da Quandl\n",
    "\n",
    "https://www.youtube.com/watch?v=EYnC4ACIt2g&ab_channel=ComputerScience"
   ]
  },
  {
   "cell_type": "code",
   "execution_count": 2,
   "id": "139ff4cc",
   "metadata": {
    "id": "139ff4cc",
    "outputId": "2e77c479-a7d4-4fa2-9f85-700c89537024"
   },
   "outputs": [
    {
     "name": "stdout",
     "output_type": "stream",
     "text": [
      "Requirement already satisfied: quandl in c:\\users\\samue\\anaconda3\\lib\\site-packages (3.7.0)\n",
      "Requirement already satisfied: numpy>=1.8 in c:\\users\\samue\\anaconda3\\lib\\site-packages (from quandl) (1.20.3)\n",
      "Requirement already satisfied: inflection>=0.3.1 in c:\\users\\samue\\anaconda3\\lib\\site-packages (from quandl) (0.5.1)\n",
      "Requirement already satisfied: requests>=2.7.0 in c:\\users\\samue\\anaconda3\\lib\\site-packages (from quandl) (2.26.0)\n",
      "Requirement already satisfied: more-itertools in c:\\users\\samue\\anaconda3\\lib\\site-packages (from quandl) (8.10.0)\n",
      "Requirement already satisfied: pandas>=0.14 in c:\\users\\samue\\anaconda3\\lib\\site-packages (from quandl) (1.3.4)\n",
      "Requirement already satisfied: six in c:\\users\\samue\\anaconda3\\lib\\site-packages (from quandl) (1.16.0)\n",
      "Requirement already satisfied: python-dateutil in c:\\users\\samue\\anaconda3\\lib\\site-packages (from quandl) (2.8.2)\n",
      "Requirement already satisfied: pytz>=2017.3 in c:\\users\\samue\\anaconda3\\lib\\site-packages (from pandas>=0.14->quandl) (2021.3)\n",
      "Requirement already satisfied: certifi>=2017.4.17 in c:\\users\\samue\\anaconda3\\lib\\site-packages (from requests>=2.7.0->quandl) (2021.10.8)\n",
      "Requirement already satisfied: urllib3<1.27,>=1.21.1 in c:\\users\\samue\\anaconda3\\lib\\site-packages (from requests>=2.7.0->quandl) (1.26.7)\n",
      "Requirement already satisfied: charset-normalizer~=2.0.0 in c:\\users\\samue\\anaconda3\\lib\\site-packages (from requests>=2.7.0->quandl) (2.0.4)\n",
      "Requirement already satisfied: idna<4,>=2.5 in c:\\users\\samue\\anaconda3\\lib\\site-packages (from requests>=2.7.0->quandl) (3.2)\n",
      "Note: you may need to restart the kernel to use updated packages.\n"
     ]
    }
   ],
   "source": [
    "pip install quandl"
   ]
  },
  {
   "cell_type": "code",
   "execution_count": 1,
   "id": "dbb6ec52",
   "metadata": {
    "id": "dbb6ec52"
   },
   "outputs": [],
   "source": [
    "#import quandl\n",
    "import numpy as np\n",
    "from sklearn.linear_model import LinearRegression\n",
    "from sklearn.svm import SVR\n",
    "from sklearn.model_selection import train_test_split\n",
    "import matplotlib.pyplot as plt\n",
    "import pandas_datareader.data as web\n"
   ]
  },
  {
   "cell_type": "markdown",
   "id": "f8636640",
   "metadata": {
    "id": "f8636640"
   },
   "source": [
    "importiamo i dati"
   ]
  },
  {
   "cell_type": "code",
   "execution_count": 2,
   "id": "a9ec70fd",
   "metadata": {
    "id": "a9ec70fd"
   },
   "outputs": [],
   "source": [
    "start_date = '2012-05-18'\n",
    "end_date = '2018-03-27'\n",
    "df = web.get_data_yahoo('FB', start_date, end_date) \n",
    "#df = quandl.get(\"WIKI/FB\")"
   ]
  },
  {
   "cell_type": "code",
   "execution_count": 5,
   "id": "4c6e4ba9",
   "metadata": {
    "id": "4c6e4ba9",
    "outputId": "f92bc7e3-23e3-4dc7-f4f4-505b6a212c3c"
   },
   "outputs": [
    {
     "data": {
      "text/plain": [
       "252"
      ]
     },
     "execution_count": 5,
     "metadata": {},
     "output_type": "execute_result"
    }
   ],
   "source": [
    "len(df)"
   ]
  },
  {
   "cell_type": "code",
   "execution_count": 3,
   "id": "4dc49c03",
   "metadata": {
    "id": "4dc49c03",
    "outputId": "8f92fada-b75f-4620-aed1-5610db69b8f6",
    "scrolled": true
   },
   "outputs": [
    {
     "data": {
      "text/html": [
       "<div>\n",
       "<style scoped>\n",
       "    .dataframe tbody tr th:only-of-type {\n",
       "        vertical-align: middle;\n",
       "    }\n",
       "\n",
       "    .dataframe tbody tr th {\n",
       "        vertical-align: top;\n",
       "    }\n",
       "\n",
       "    .dataframe thead th {\n",
       "        text-align: right;\n",
       "    }\n",
       "</style>\n",
       "<table border=\"1\" class=\"dataframe\">\n",
       "  <thead>\n",
       "    <tr style=\"text-align: right;\">\n",
       "      <th></th>\n",
       "      <th>High</th>\n",
       "      <th>Low</th>\n",
       "      <th>Open</th>\n",
       "      <th>Close</th>\n",
       "      <th>Volume</th>\n",
       "      <th>Adj Close</th>\n",
       "    </tr>\n",
       "    <tr>\n",
       "      <th>Date</th>\n",
       "      <th></th>\n",
       "      <th></th>\n",
       "      <th></th>\n",
       "      <th></th>\n",
       "      <th></th>\n",
       "      <th></th>\n",
       "    </tr>\n",
       "  </thead>\n",
       "  <tbody>\n",
       "    <tr>\n",
       "      <th>2021-08-31</th>\n",
       "      <td>382.760010</td>\n",
       "      <td>378.799988</td>\n",
       "      <td>379.950012</td>\n",
       "      <td>379.380005</td>\n",
       "      <td>12345400</td>\n",
       "      <td>379.380005</td>\n",
       "    </tr>\n",
       "    <tr>\n",
       "      <th>2021-09-01</th>\n",
       "      <td>384.329987</td>\n",
       "      <td>378.809998</td>\n",
       "      <td>379.589996</td>\n",
       "      <td>382.049988</td>\n",
       "      <td>11567200</td>\n",
       "      <td>382.049988</td>\n",
       "    </tr>\n",
       "    <tr>\n",
       "      <th>2021-09-02</th>\n",
       "      <td>381.750000</td>\n",
       "      <td>374.059998</td>\n",
       "      <td>381.500000</td>\n",
       "      <td>375.279999</td>\n",
       "      <td>14832900</td>\n",
       "      <td>375.279999</td>\n",
       "    </tr>\n",
       "    <tr>\n",
       "      <th>2021-09-03</th>\n",
       "      <td>377.160004</td>\n",
       "      <td>373.109985</td>\n",
       "      <td>374.750000</td>\n",
       "      <td>376.260010</td>\n",
       "      <td>7509600</td>\n",
       "      <td>376.260010</td>\n",
       "    </tr>\n",
       "    <tr>\n",
       "      <th>2021-09-07</th>\n",
       "      <td>382.959991</td>\n",
       "      <td>373.149994</td>\n",
       "      <td>375.880005</td>\n",
       "      <td>382.179993</td>\n",
       "      <td>10793800</td>\n",
       "      <td>382.179993</td>\n",
       "    </tr>\n",
       "  </tbody>\n",
       "</table>\n",
       "</div>"
      ],
      "text/plain": [
       "                  High         Low        Open       Close    Volume  \\\n",
       "Date                                                                   \n",
       "2021-08-31  382.760010  378.799988  379.950012  379.380005  12345400   \n",
       "2021-09-01  384.329987  378.809998  379.589996  382.049988  11567200   \n",
       "2021-09-02  381.750000  374.059998  381.500000  375.279999  14832900   \n",
       "2021-09-03  377.160004  373.109985  374.750000  376.260010   7509600   \n",
       "2021-09-07  382.959991  373.149994  375.880005  382.179993  10793800   \n",
       "\n",
       "             Adj Close  \n",
       "Date                    \n",
       "2021-08-31  379.380005  \n",
       "2021-09-01  382.049988  \n",
       "2021-09-02  375.279999  \n",
       "2021-09-03  376.260010  \n",
       "2021-09-07  382.179993  "
      ]
     },
     "execution_count": 3,
     "metadata": {},
     "output_type": "execute_result"
    }
   ],
   "source": [
    "df.head()"
   ]
  },
  {
   "cell_type": "code",
   "execution_count": 5,
   "id": "dd0da390",
   "metadata": {},
   "outputs": [
    {
     "data": {
      "text/plain": [
       "Index(['High', 'Low', 'Open', 'Close', 'Volume', 'Adj Close'], dtype='object')"
      ]
     },
     "execution_count": 5,
     "metadata": {},
     "output_type": "execute_result"
    }
   ],
   "source": [
    "df.columns"
   ]
  },
  {
   "cell_type": "code",
   "execution_count": 7,
   "id": "e225aac9",
   "metadata": {
    "id": "e225aac9",
    "outputId": "2de805d8-1652-430c-fee7-30dd5ccdaa9e"
   },
   "outputs": [],
   "source": [
    "df[['High_shifted', 'Low_shifted', 'Open_shifted', 'Close_shifted', 'Volume_shifted', 'Adj Close_shifted']] = df.shift(-1)"
   ]
  },
  {
   "cell_type": "code",
   "execution_count": 8,
   "id": "d72be331",
   "metadata": {},
   "outputs": [
    {
     "data": {
      "text/html": [
       "<div>\n",
       "<style scoped>\n",
       "    .dataframe tbody tr th:only-of-type {\n",
       "        vertical-align: middle;\n",
       "    }\n",
       "\n",
       "    .dataframe tbody tr th {\n",
       "        vertical-align: top;\n",
       "    }\n",
       "\n",
       "    .dataframe thead th {\n",
       "        text-align: right;\n",
       "    }\n",
       "</style>\n",
       "<table border=\"1\" class=\"dataframe\">\n",
       "  <thead>\n",
       "    <tr style=\"text-align: right;\">\n",
       "      <th></th>\n",
       "      <th>High</th>\n",
       "      <th>Low</th>\n",
       "      <th>Open</th>\n",
       "      <th>Close</th>\n",
       "      <th>Volume</th>\n",
       "      <th>Adj Close</th>\n",
       "      <th>High_shifted</th>\n",
       "      <th>Low_shifted</th>\n",
       "      <th>Open_shifted</th>\n",
       "      <th>Close_shifted</th>\n",
       "      <th>Volume_shifted</th>\n",
       "      <th>Adj Close_shifted</th>\n",
       "    </tr>\n",
       "    <tr>\n",
       "      <th>Date</th>\n",
       "      <th></th>\n",
       "      <th></th>\n",
       "      <th></th>\n",
       "      <th></th>\n",
       "      <th></th>\n",
       "      <th></th>\n",
       "      <th></th>\n",
       "      <th></th>\n",
       "      <th></th>\n",
       "      <th></th>\n",
       "      <th></th>\n",
       "      <th></th>\n",
       "    </tr>\n",
       "  </thead>\n",
       "  <tbody>\n",
       "    <tr>\n",
       "      <th>2021-08-31</th>\n",
       "      <td>382.760010</td>\n",
       "      <td>378.799988</td>\n",
       "      <td>379.950012</td>\n",
       "      <td>379.380005</td>\n",
       "      <td>12345400</td>\n",
       "      <td>379.380005</td>\n",
       "      <td>384.329987</td>\n",
       "      <td>378.809998</td>\n",
       "      <td>379.589996</td>\n",
       "      <td>382.049988</td>\n",
       "      <td>11567200.0</td>\n",
       "      <td>382.049988</td>\n",
       "    </tr>\n",
       "    <tr>\n",
       "      <th>2021-09-01</th>\n",
       "      <td>384.329987</td>\n",
       "      <td>378.809998</td>\n",
       "      <td>379.589996</td>\n",
       "      <td>382.049988</td>\n",
       "      <td>11567200</td>\n",
       "      <td>382.049988</td>\n",
       "      <td>381.750000</td>\n",
       "      <td>374.059998</td>\n",
       "      <td>381.500000</td>\n",
       "      <td>375.279999</td>\n",
       "      <td>14832900.0</td>\n",
       "      <td>375.279999</td>\n",
       "    </tr>\n",
       "    <tr>\n",
       "      <th>2021-09-02</th>\n",
       "      <td>381.750000</td>\n",
       "      <td>374.059998</td>\n",
       "      <td>381.500000</td>\n",
       "      <td>375.279999</td>\n",
       "      <td>14832900</td>\n",
       "      <td>375.279999</td>\n",
       "      <td>377.160004</td>\n",
       "      <td>373.109985</td>\n",
       "      <td>374.750000</td>\n",
       "      <td>376.260010</td>\n",
       "      <td>7509600.0</td>\n",
       "      <td>376.260010</td>\n",
       "    </tr>\n",
       "    <tr>\n",
       "      <th>2021-09-03</th>\n",
       "      <td>377.160004</td>\n",
       "      <td>373.109985</td>\n",
       "      <td>374.750000</td>\n",
       "      <td>376.260010</td>\n",
       "      <td>7509600</td>\n",
       "      <td>376.260010</td>\n",
       "      <td>382.959991</td>\n",
       "      <td>373.149994</td>\n",
       "      <td>375.880005</td>\n",
       "      <td>382.179993</td>\n",
       "      <td>10793800.0</td>\n",
       "      <td>382.179993</td>\n",
       "    </tr>\n",
       "    <tr>\n",
       "      <th>2021-09-07</th>\n",
       "      <td>382.959991</td>\n",
       "      <td>373.149994</td>\n",
       "      <td>375.880005</td>\n",
       "      <td>382.179993</td>\n",
       "      <td>10793800</td>\n",
       "      <td>382.179993</td>\n",
       "      <td>380.869995</td>\n",
       "      <td>374.790009</td>\n",
       "      <td>380.160004</td>\n",
       "      <td>377.570007</td>\n",
       "      <td>11067200.0</td>\n",
       "      <td>377.570007</td>\n",
       "    </tr>\n",
       "    <tr>\n",
       "      <th>...</th>\n",
       "      <td>...</td>\n",
       "      <td>...</td>\n",
       "      <td>...</td>\n",
       "      <td>...</td>\n",
       "      <td>...</td>\n",
       "      <td>...</td>\n",
       "      <td>...</td>\n",
       "      <td>...</td>\n",
       "      <td>...</td>\n",
       "      <td>...</td>\n",
       "      <td>...</td>\n",
       "      <td>...</td>\n",
       "    </tr>\n",
       "    <tr>\n",
       "      <th>2022-08-25</th>\n",
       "      <td>168.880005</td>\n",
       "      <td>164.020004</td>\n",
       "      <td>165.179993</td>\n",
       "      <td>168.779999</td>\n",
       "      <td>15550500</td>\n",
       "      <td>168.779999</td>\n",
       "      <td>170.919998</td>\n",
       "      <td>161.669998</td>\n",
       "      <td>168.479996</td>\n",
       "      <td>161.779999</td>\n",
       "      <td>23979700.0</td>\n",
       "      <td>161.779999</td>\n",
       "    </tr>\n",
       "    <tr>\n",
       "      <th>2022-08-26</th>\n",
       "      <td>170.919998</td>\n",
       "      <td>161.669998</td>\n",
       "      <td>168.479996</td>\n",
       "      <td>161.779999</td>\n",
       "      <td>23979700</td>\n",
       "      <td>161.779999</td>\n",
       "      <td>163.050003</td>\n",
       "      <td>159.009995</td>\n",
       "      <td>160.660004</td>\n",
       "      <td>159.169998</td>\n",
       "      <td>20052700.0</td>\n",
       "      <td>159.169998</td>\n",
       "    </tr>\n",
       "    <tr>\n",
       "      <th>2022-08-29</th>\n",
       "      <td>163.050003</td>\n",
       "      <td>159.009995</td>\n",
       "      <td>160.660004</td>\n",
       "      <td>159.169998</td>\n",
       "      <td>20052700</td>\n",
       "      <td>159.169998</td>\n",
       "      <td>161.660004</td>\n",
       "      <td>155.910004</td>\n",
       "      <td>160.350006</td>\n",
       "      <td>157.160004</td>\n",
       "      <td>19546900.0</td>\n",
       "      <td>157.160004</td>\n",
       "    </tr>\n",
       "    <tr>\n",
       "      <th>2022-08-30</th>\n",
       "      <td>161.660004</td>\n",
       "      <td>155.910004</td>\n",
       "      <td>160.350006</td>\n",
       "      <td>157.160004</td>\n",
       "      <td>19546900</td>\n",
       "      <td>157.160004</td>\n",
       "      <td>167.839996</td>\n",
       "      <td>162.199997</td>\n",
       "      <td>167.070007</td>\n",
       "      <td>162.300003</td>\n",
       "      <td>28248238.0</td>\n",
       "      <td>162.300003</td>\n",
       "    </tr>\n",
       "    <tr>\n",
       "      <th>2022-08-31</th>\n",
       "      <td>167.839996</td>\n",
       "      <td>162.199997</td>\n",
       "      <td>167.070007</td>\n",
       "      <td>162.300003</td>\n",
       "      <td>28248238</td>\n",
       "      <td>162.300003</td>\n",
       "      <td>NaN</td>\n",
       "      <td>NaN</td>\n",
       "      <td>NaN</td>\n",
       "      <td>NaN</td>\n",
       "      <td>NaN</td>\n",
       "      <td>NaN</td>\n",
       "    </tr>\n",
       "  </tbody>\n",
       "</table>\n",
       "<p>253 rows × 12 columns</p>\n",
       "</div>"
      ],
      "text/plain": [
       "                  High         Low        Open       Close    Volume  \\\n",
       "Date                                                                   \n",
       "2021-08-31  382.760010  378.799988  379.950012  379.380005  12345400   \n",
       "2021-09-01  384.329987  378.809998  379.589996  382.049988  11567200   \n",
       "2021-09-02  381.750000  374.059998  381.500000  375.279999  14832900   \n",
       "2021-09-03  377.160004  373.109985  374.750000  376.260010   7509600   \n",
       "2021-09-07  382.959991  373.149994  375.880005  382.179993  10793800   \n",
       "...                ...         ...         ...         ...       ...   \n",
       "2022-08-25  168.880005  164.020004  165.179993  168.779999  15550500   \n",
       "2022-08-26  170.919998  161.669998  168.479996  161.779999  23979700   \n",
       "2022-08-29  163.050003  159.009995  160.660004  159.169998  20052700   \n",
       "2022-08-30  161.660004  155.910004  160.350006  157.160004  19546900   \n",
       "2022-08-31  167.839996  162.199997  167.070007  162.300003  28248238   \n",
       "\n",
       "             Adj Close  High_shifted  Low_shifted  Open_shifted  \\\n",
       "Date                                                              \n",
       "2021-08-31  379.380005    384.329987   378.809998    379.589996   \n",
       "2021-09-01  382.049988    381.750000   374.059998    381.500000   \n",
       "2021-09-02  375.279999    377.160004   373.109985    374.750000   \n",
       "2021-09-03  376.260010    382.959991   373.149994    375.880005   \n",
       "2021-09-07  382.179993    380.869995   374.790009    380.160004   \n",
       "...                ...           ...          ...           ...   \n",
       "2022-08-25  168.779999    170.919998   161.669998    168.479996   \n",
       "2022-08-26  161.779999    163.050003   159.009995    160.660004   \n",
       "2022-08-29  159.169998    161.660004   155.910004    160.350006   \n",
       "2022-08-30  157.160004    167.839996   162.199997    167.070007   \n",
       "2022-08-31  162.300003           NaN          NaN           NaN   \n",
       "\n",
       "            Close_shifted  Volume_shifted  Adj Close_shifted  \n",
       "Date                                                          \n",
       "2021-08-31     382.049988      11567200.0         382.049988  \n",
       "2021-09-01     375.279999      14832900.0         375.279999  \n",
       "2021-09-02     376.260010       7509600.0         376.260010  \n",
       "2021-09-03     382.179993      10793800.0         382.179993  \n",
       "2021-09-07     377.570007      11067200.0         377.570007  \n",
       "...                   ...             ...                ...  \n",
       "2022-08-25     161.779999      23979700.0         161.779999  \n",
       "2022-08-26     159.169998      20052700.0         159.169998  \n",
       "2022-08-29     157.160004      19546900.0         157.160004  \n",
       "2022-08-30     162.300003      28248238.0         162.300003  \n",
       "2022-08-31            NaN             NaN                NaN  \n",
       "\n",
       "[253 rows x 12 columns]"
      ]
     },
     "execution_count": 8,
     "metadata": {},
     "output_type": "execute_result"
    }
   ],
   "source": [
    "df"
   ]
  },
  {
   "cell_type": "markdown",
   "id": "e1a7c9f0",
   "metadata": {
    "id": "e1a7c9f0"
   },
   "source": [
    "Selezioniamo la colonna Adj Close"
   ]
  },
  {
   "cell_type": "code",
   "execution_count": 12,
   "id": "5c73aa22",
   "metadata": {
    "id": "5c73aa22"
   },
   "outputs": [],
   "source": [
    "df = df[['Adj Close']]"
   ]
  },
  {
   "cell_type": "code",
   "execution_count": 9,
   "id": "9b07a233",
   "metadata": {
    "id": "9b07a233",
    "outputId": "be87ac8c-8e4c-4cf3-ee86-6317185371be"
   },
   "outputs": [
    {
     "data": {
      "text/plain": [
       "252"
      ]
     },
     "execution_count": 9,
     "metadata": {},
     "output_type": "execute_result"
    }
   ],
   "source": [
    "len(df)"
   ]
  },
  {
   "cell_type": "code",
   "execution_count": 10,
   "id": "a8d15ef4",
   "metadata": {
    "id": "a8d15ef4",
    "outputId": "fd26bea4-f891-4f38-8d09-e2456439d0d1"
   },
   "outputs": [
    {
     "data": {
      "text/html": [
       "<div>\n",
       "<style scoped>\n",
       "    .dataframe tbody tr th:only-of-type {\n",
       "        vertical-align: middle;\n",
       "    }\n",
       "\n",
       "    .dataframe tbody tr th {\n",
       "        vertical-align: top;\n",
       "    }\n",
       "\n",
       "    .dataframe thead th {\n",
       "        text-align: right;\n",
       "    }\n",
       "</style>\n",
       "<table border=\"1\" class=\"dataframe\">\n",
       "  <thead>\n",
       "    <tr style=\"text-align: right;\">\n",
       "      <th></th>\n",
       "      <th>Adj Close</th>\n",
       "    </tr>\n",
       "    <tr>\n",
       "      <th>Date</th>\n",
       "      <th></th>\n",
       "    </tr>\n",
       "  </thead>\n",
       "  <tbody>\n",
       "    <tr>\n",
       "      <th>2021-08-16</th>\n",
       "      <td>366.559998</td>\n",
       "    </tr>\n",
       "    <tr>\n",
       "      <th>2021-08-17</th>\n",
       "      <td>358.450012</td>\n",
       "    </tr>\n",
       "    <tr>\n",
       "      <th>2021-08-18</th>\n",
       "      <td>355.450012</td>\n",
       "    </tr>\n",
       "    <tr>\n",
       "      <th>2021-08-19</th>\n",
       "      <td>355.119995</td>\n",
       "    </tr>\n",
       "    <tr>\n",
       "      <th>2021-08-20</th>\n",
       "      <td>359.369995</td>\n",
       "    </tr>\n",
       "  </tbody>\n",
       "</table>\n",
       "</div>"
      ],
      "text/plain": [
       "             Adj Close\n",
       "Date                  \n",
       "2021-08-16  366.559998\n",
       "2021-08-17  358.450012\n",
       "2021-08-18  355.450012\n",
       "2021-08-19  355.119995\n",
       "2021-08-20  359.369995"
      ]
     },
     "execution_count": 10,
     "metadata": {},
     "output_type": "execute_result"
    }
   ],
   "source": [
    "df.head()"
   ]
  },
  {
   "cell_type": "code",
   "execution_count": 11,
   "id": "b1ee9351",
   "metadata": {
    "id": "b1ee9351"
   },
   "outputs": [],
   "source": [
    "# Numero di giorni nel futuro che si vogliono prevedere\n",
    "forecast_out = 1"
   ]
  },
  {
   "cell_type": "code",
   "execution_count": 9,
   "id": "2f5d9a25",
   "metadata": {
    "id": "2f5d9a25"
   },
   "outputs": [],
   "source": [
    "# Creiamo una colonna con la variabile da prevedere\n",
    "df['Prediction'] = df[['Adj Close']].shift(-1)"
   ]
  },
  {
   "cell_type": "code",
   "execution_count": 13,
   "id": "d29a55c1",
   "metadata": {
    "id": "d29a55c1",
    "outputId": "f784e8ec-ba55-44c3-a9ef-779db4dddc7d"
   },
   "outputs": [
    {
     "data": {
      "text/html": [
       "<div>\n",
       "<style scoped>\n",
       "    .dataframe tbody tr th:only-of-type {\n",
       "        vertical-align: middle;\n",
       "    }\n",
       "\n",
       "    .dataframe tbody tr th {\n",
       "        vertical-align: top;\n",
       "    }\n",
       "\n",
       "    .dataframe thead th {\n",
       "        text-align: right;\n",
       "    }\n",
       "</style>\n",
       "<table border=\"1\" class=\"dataframe\">\n",
       "  <thead>\n",
       "    <tr style=\"text-align: right;\">\n",
       "      <th></th>\n",
       "      <th>Adj Close</th>\n",
       "      <th>Prediction</th>\n",
       "    </tr>\n",
       "    <tr>\n",
       "      <th>Date</th>\n",
       "      <th></th>\n",
       "      <th></th>\n",
       "    </tr>\n",
       "  </thead>\n",
       "  <tbody>\n",
       "    <tr>\n",
       "      <th>2021-08-16</th>\n",
       "      <td>366.559998</td>\n",
       "      <td>358.450012</td>\n",
       "    </tr>\n",
       "    <tr>\n",
       "      <th>2021-08-17</th>\n",
       "      <td>358.450012</td>\n",
       "      <td>355.450012</td>\n",
       "    </tr>\n",
       "    <tr>\n",
       "      <th>2021-08-18</th>\n",
       "      <td>355.450012</td>\n",
       "      <td>355.119995</td>\n",
       "    </tr>\n",
       "    <tr>\n",
       "      <th>2021-08-19</th>\n",
       "      <td>355.119995</td>\n",
       "      <td>359.369995</td>\n",
       "    </tr>\n",
       "    <tr>\n",
       "      <th>2021-08-20</th>\n",
       "      <td>359.369995</td>\n",
       "      <td>363.350006</td>\n",
       "    </tr>\n",
       "  </tbody>\n",
       "</table>\n",
       "</div>"
      ],
      "text/plain": [
       "             Adj Close  Prediction\n",
       "Date                              \n",
       "2021-08-16  366.559998  358.450012\n",
       "2021-08-17  358.450012  355.450012\n",
       "2021-08-18  355.450012  355.119995\n",
       "2021-08-19  355.119995  359.369995\n",
       "2021-08-20  359.369995  363.350006"
      ]
     },
     "execution_count": 13,
     "metadata": {},
     "output_type": "execute_result"
    }
   ],
   "source": [
    "df.head()"
   ]
  },
  {
   "cell_type": "code",
   "execution_count": 14,
   "id": "15afabb3",
   "metadata": {
    "id": "15afabb3",
    "outputId": "a4e28482-d370-454a-ecec-b095d6ea2046"
   },
   "outputs": [
    {
     "data": {
      "text/html": [
       "<div>\n",
       "<style scoped>\n",
       "    .dataframe tbody tr th:only-of-type {\n",
       "        vertical-align: middle;\n",
       "    }\n",
       "\n",
       "    .dataframe tbody tr th {\n",
       "        vertical-align: top;\n",
       "    }\n",
       "\n",
       "    .dataframe thead th {\n",
       "        text-align: right;\n",
       "    }\n",
       "</style>\n",
       "<table border=\"1\" class=\"dataframe\">\n",
       "  <thead>\n",
       "    <tr style=\"text-align: right;\">\n",
       "      <th></th>\n",
       "      <th>Adj Close</th>\n",
       "      <th>Prediction</th>\n",
       "    </tr>\n",
       "    <tr>\n",
       "      <th>Date</th>\n",
       "      <th></th>\n",
       "      <th></th>\n",
       "    </tr>\n",
       "  </thead>\n",
       "  <tbody>\n",
       "    <tr>\n",
       "      <th>2022-08-09</th>\n",
       "      <td>168.529999</td>\n",
       "      <td>178.339996</td>\n",
       "    </tr>\n",
       "    <tr>\n",
       "      <th>2022-08-10</th>\n",
       "      <td>178.339996</td>\n",
       "      <td>177.490005</td>\n",
       "    </tr>\n",
       "    <tr>\n",
       "      <th>2022-08-11</th>\n",
       "      <td>177.490005</td>\n",
       "      <td>180.500000</td>\n",
       "    </tr>\n",
       "    <tr>\n",
       "      <th>2022-08-12</th>\n",
       "      <td>180.500000</td>\n",
       "      <td>180.889999</td>\n",
       "    </tr>\n",
       "    <tr>\n",
       "      <th>2022-08-15</th>\n",
       "      <td>180.889999</td>\n",
       "      <td>NaN</td>\n",
       "    </tr>\n",
       "  </tbody>\n",
       "</table>\n",
       "</div>"
      ],
      "text/plain": [
       "             Adj Close  Prediction\n",
       "Date                              \n",
       "2022-08-09  168.529999  178.339996\n",
       "2022-08-10  178.339996  177.490005\n",
       "2022-08-11  177.490005  180.500000\n",
       "2022-08-12  180.500000  180.889999\n",
       "2022-08-15  180.889999         NaN"
      ]
     },
     "execution_count": 14,
     "metadata": {},
     "output_type": "execute_result"
    }
   ],
   "source": [
    "df.tail()"
   ]
  },
  {
   "cell_type": "code",
   "execution_count": 15,
   "id": "b88dd32b",
   "metadata": {
    "id": "b88dd32b",
    "outputId": "3608127e-0d4b-4ba8-92e2-f3a2a966cf0c"
   },
   "outputs": [
    {
     "data": {
      "text/html": [
       "<div>\n",
       "<style scoped>\n",
       "    .dataframe tbody tr th:only-of-type {\n",
       "        vertical-align: middle;\n",
       "    }\n",
       "\n",
       "    .dataframe tbody tr th {\n",
       "        vertical-align: top;\n",
       "    }\n",
       "\n",
       "    .dataframe thead th {\n",
       "        text-align: right;\n",
       "    }\n",
       "</style>\n",
       "<table border=\"1\" class=\"dataframe\">\n",
       "  <thead>\n",
       "    <tr style=\"text-align: right;\">\n",
       "      <th></th>\n",
       "      <th>Adj Close</th>\n",
       "      <th>Prediction</th>\n",
       "    </tr>\n",
       "    <tr>\n",
       "      <th>Date</th>\n",
       "      <th></th>\n",
       "      <th></th>\n",
       "    </tr>\n",
       "  </thead>\n",
       "  <tbody>\n",
       "    <tr>\n",
       "      <th>2022-08-09</th>\n",
       "      <td>168.529999</td>\n",
       "      <td>178.339996</td>\n",
       "    </tr>\n",
       "    <tr>\n",
       "      <th>2022-08-10</th>\n",
       "      <td>178.339996</td>\n",
       "      <td>177.490005</td>\n",
       "    </tr>\n",
       "    <tr>\n",
       "      <th>2022-08-11</th>\n",
       "      <td>177.490005</td>\n",
       "      <td>180.500000</td>\n",
       "    </tr>\n",
       "    <tr>\n",
       "      <th>2022-08-12</th>\n",
       "      <td>180.500000</td>\n",
       "      <td>180.889999</td>\n",
       "    </tr>\n",
       "    <tr>\n",
       "      <th>2022-08-15</th>\n",
       "      <td>180.889999</td>\n",
       "      <td>NaN</td>\n",
       "    </tr>\n",
       "  </tbody>\n",
       "</table>\n",
       "</div>"
      ],
      "text/plain": [
       "             Adj Close  Prediction\n",
       "Date                              \n",
       "2022-08-09  168.529999  178.339996\n",
       "2022-08-10  178.339996  177.490005\n",
       "2022-08-11  177.490005  180.500000\n",
       "2022-08-12  180.500000  180.889999\n",
       "2022-08-15  180.889999         NaN"
      ]
     },
     "execution_count": 15,
     "metadata": {},
     "output_type": "execute_result"
    }
   ],
   "source": [
    "df.tail()"
   ]
  },
  {
   "cell_type": "code",
   "execution_count": 13,
   "id": "6b3c355d",
   "metadata": {
    "id": "6b3c355d"
   },
   "outputs": [
    {
     "name": "stderr",
     "output_type": "stream",
     "text": [
      "C:\\Users\\samue\\AppData\\Local\\Temp/ipykernel_1136/1070031000.py:3: SettingWithCopyWarning: \n",
      "A value is trying to be set on a copy of a slice from a DataFrame.\n",
      "Try using .loc[row_indexer,col_indexer] = value instead\n",
      "\n",
      "See the caveats in the documentation: https://pandas.pydata.org/pandas-docs/stable/user_guide/indexing.html#returning-a-view-versus-a-copy\n",
      "  df['Prediction'] = df[['Adj Close']].shift(-forecast_out)\n"
     ]
    }
   ],
   "source": [
    "# Stabiliamo quanti \"n\" giorni in avanti vogliamo prevedere\n",
    "forecast_out = 30\n",
    "df['Prediction'] = df[['Adj Close']].shift(-forecast_out)"
   ]
  },
  {
   "cell_type": "code",
   "execution_count": 16,
   "id": "e698f8da",
   "metadata": {
    "id": "e698f8da",
    "outputId": "b38a646f-6ced-42a6-c6bc-53ca0c3ec3ff",
    "scrolled": true
   },
   "outputs": [
    {
     "data": {
      "text/html": [
       "<div>\n",
       "<style scoped>\n",
       "    .dataframe tbody tr th:only-of-type {\n",
       "        vertical-align: middle;\n",
       "    }\n",
       "\n",
       "    .dataframe tbody tr th {\n",
       "        vertical-align: top;\n",
       "    }\n",
       "\n",
       "    .dataframe thead th {\n",
       "        text-align: right;\n",
       "    }\n",
       "</style>\n",
       "<table border=\"1\" class=\"dataframe\">\n",
       "  <thead>\n",
       "    <tr style=\"text-align: right;\">\n",
       "      <th></th>\n",
       "      <th>Adj Close</th>\n",
       "      <th>Prediction</th>\n",
       "    </tr>\n",
       "    <tr>\n",
       "      <th>Date</th>\n",
       "      <th></th>\n",
       "      <th></th>\n",
       "    </tr>\n",
       "  </thead>\n",
       "  <tbody>\n",
       "    <tr>\n",
       "      <th>2021-08-31</th>\n",
       "      <td>379.380005</td>\n",
       "      <td>324.540009</td>\n",
       "    </tr>\n",
       "    <tr>\n",
       "      <th>2021-09-01</th>\n",
       "      <td>382.049988</td>\n",
       "      <td>328.529999</td>\n",
       "    </tr>\n",
       "    <tr>\n",
       "      <th>2021-09-02</th>\n",
       "      <td>375.279999</td>\n",
       "      <td>324.760010</td>\n",
       "    </tr>\n",
       "    <tr>\n",
       "      <th>2021-09-03</th>\n",
       "      <td>376.260010</td>\n",
       "      <td>335.339996</td>\n",
       "    </tr>\n",
       "    <tr>\n",
       "      <th>2021-09-07</th>\n",
       "      <td>382.179993</td>\n",
       "      <td>339.989990</td>\n",
       "    </tr>\n",
       "    <tr>\n",
       "      <th>2021-09-08</th>\n",
       "      <td>377.570007</td>\n",
       "      <td>340.779999</td>\n",
       "    </tr>\n",
       "    <tr>\n",
       "      <th>2021-09-09</th>\n",
       "      <td>378.000000</td>\n",
       "      <td>341.880005</td>\n",
       "    </tr>\n",
       "    <tr>\n",
       "      <th>2021-09-10</th>\n",
       "      <td>378.690002</td>\n",
       "      <td>324.609985</td>\n",
       "    </tr>\n",
       "    <tr>\n",
       "      <th>2021-09-13</th>\n",
       "      <td>376.510010</td>\n",
       "      <td>328.690002</td>\n",
       "    </tr>\n",
       "    <tr>\n",
       "      <th>2021-09-14</th>\n",
       "      <td>376.529999</td>\n",
       "      <td>315.809998</td>\n",
       "    </tr>\n",
       "    <tr>\n",
       "      <th>2021-09-15</th>\n",
       "      <td>373.920013</td>\n",
       "      <td>312.220001</td>\n",
       "    </tr>\n",
       "    <tr>\n",
       "      <th>2021-09-16</th>\n",
       "      <td>373.059998</td>\n",
       "      <td>316.920013</td>\n",
       "    </tr>\n",
       "    <tr>\n",
       "      <th>2021-09-17</th>\n",
       "      <td>364.720001</td>\n",
       "      <td>323.570007</td>\n",
       "    </tr>\n",
       "    <tr>\n",
       "      <th>2021-09-20</th>\n",
       "      <td>355.700012</td>\n",
       "      <td>329.980011</td>\n",
       "    </tr>\n",
       "    <tr>\n",
       "      <th>2021-09-21</th>\n",
       "      <td>357.480011</td>\n",
       "      <td>328.079987</td>\n",
       "    </tr>\n",
       "    <tr>\n",
       "      <th>2021-09-22</th>\n",
       "      <td>343.209991</td>\n",
       "      <td>331.619995</td>\n",
       "    </tr>\n",
       "    <tr>\n",
       "      <th>2021-09-23</th>\n",
       "      <td>345.959991</td>\n",
       "      <td>335.850006</td>\n",
       "    </tr>\n",
       "    <tr>\n",
       "      <th>2021-09-24</th>\n",
       "      <td>352.959991</td>\n",
       "      <td>341.130005</td>\n",
       "    </tr>\n",
       "    <tr>\n",
       "      <th>2021-09-27</th>\n",
       "      <td>353.579987</td>\n",
       "      <td>338.619995</td>\n",
       "    </tr>\n",
       "    <tr>\n",
       "      <th>2021-09-28</th>\n",
       "      <td>340.649994</td>\n",
       "      <td>335.369995</td>\n",
       "    </tr>\n",
       "    <tr>\n",
       "      <th>2021-09-29</th>\n",
       "      <td>339.609985</td>\n",
       "      <td>327.640015</td>\n",
       "    </tr>\n",
       "    <tr>\n",
       "      <th>2021-09-30</th>\n",
       "      <td>339.390015</td>\n",
       "      <td>327.739990</td>\n",
       "    </tr>\n",
       "    <tr>\n",
       "      <th>2021-10-01</th>\n",
       "      <td>343.010010</td>\n",
       "      <td>340.890015</td>\n",
       "    </tr>\n",
       "    <tr>\n",
       "      <th>2021-10-04</th>\n",
       "      <td>326.230011</td>\n",
       "      <td>347.559998</td>\n",
       "    </tr>\n",
       "    <tr>\n",
       "      <th>2021-10-05</th>\n",
       "      <td>332.959991</td>\n",
       "      <td>342.959991</td>\n",
       "    </tr>\n",
       "    <tr>\n",
       "      <th>2021-10-06</th>\n",
       "      <td>333.640015</td>\n",
       "      <td>340.769989</td>\n",
       "    </tr>\n",
       "    <tr>\n",
       "      <th>2021-10-07</th>\n",
       "      <td>329.220001</td>\n",
       "      <td>338.690002</td>\n",
       "    </tr>\n",
       "    <tr>\n",
       "      <th>2021-10-08</th>\n",
       "      <td>330.049988</td>\n",
       "      <td>345.299988</td>\n",
       "    </tr>\n",
       "    <tr>\n",
       "      <th>2021-10-11</th>\n",
       "      <td>325.450012</td>\n",
       "      <td>341.010010</td>\n",
       "    </tr>\n",
       "    <tr>\n",
       "      <th>2021-10-12</th>\n",
       "      <td>323.769989</td>\n",
       "      <td>337.250000</td>\n",
       "    </tr>\n",
       "    <tr>\n",
       "      <th>2021-10-13</th>\n",
       "      <td>324.540009</td>\n",
       "      <td>341.059998</td>\n",
       "    </tr>\n",
       "  </tbody>\n",
       "</table>\n",
       "</div>"
      ],
      "text/plain": [
       "             Adj Close  Prediction\n",
       "Date                              \n",
       "2021-08-31  379.380005  324.540009\n",
       "2021-09-01  382.049988  328.529999\n",
       "2021-09-02  375.279999  324.760010\n",
       "2021-09-03  376.260010  335.339996\n",
       "2021-09-07  382.179993  339.989990\n",
       "2021-09-08  377.570007  340.779999\n",
       "2021-09-09  378.000000  341.880005\n",
       "2021-09-10  378.690002  324.609985\n",
       "2021-09-13  376.510010  328.690002\n",
       "2021-09-14  376.529999  315.809998\n",
       "2021-09-15  373.920013  312.220001\n",
       "2021-09-16  373.059998  316.920013\n",
       "2021-09-17  364.720001  323.570007\n",
       "2021-09-20  355.700012  329.980011\n",
       "2021-09-21  357.480011  328.079987\n",
       "2021-09-22  343.209991  331.619995\n",
       "2021-09-23  345.959991  335.850006\n",
       "2021-09-24  352.959991  341.130005\n",
       "2021-09-27  353.579987  338.619995\n",
       "2021-09-28  340.649994  335.369995\n",
       "2021-09-29  339.609985  327.640015\n",
       "2021-09-30  339.390015  327.739990\n",
       "2021-10-01  343.010010  340.890015\n",
       "2021-10-04  326.230011  347.559998\n",
       "2021-10-05  332.959991  342.959991\n",
       "2021-10-06  333.640015  340.769989\n",
       "2021-10-07  329.220001  338.690002\n",
       "2021-10-08  330.049988  345.299988\n",
       "2021-10-11  325.450012  341.010010\n",
       "2021-10-12  323.769989  337.250000\n",
       "2021-10-13  324.540009  341.059998"
      ]
     },
     "execution_count": 16,
     "metadata": {},
     "output_type": "execute_result"
    }
   ],
   "source": [
    "df.head(31)"
   ]
  },
  {
   "cell_type": "code",
   "execution_count": 17,
   "id": "6b753ae3",
   "metadata": {},
   "outputs": [
    {
     "data": {
      "text/plain": [
       "(253, 2)"
      ]
     },
     "execution_count": 17,
     "metadata": {},
     "output_type": "execute_result"
    }
   ],
   "source": [
    "df.shape"
   ]
  },
  {
   "cell_type": "code",
   "execution_count": 18,
   "id": "9c455dfd",
   "metadata": {
    "id": "9c455dfd",
    "scrolled": true
   },
   "outputs": [
    {
     "name": "stderr",
     "output_type": "stream",
     "text": [
      "C:\\Users\\samue\\AppData\\Local\\Temp/ipykernel_1136/4168697561.py:2: FutureWarning: In a future version of pandas all arguments of DataFrame.drop except for the argument 'labels' will be keyword-only\n",
      "  X = np.array(df.drop(['Prediction'], 1))\n"
     ]
    }
   ],
   "source": [
    "# Creiamo un data set indipendente (X), trasformando il df in un array\n",
    "X = np.array(df.drop(['Prediction'], 1))"
   ]
  },
  {
   "cell_type": "code",
   "execution_count": 19,
   "id": "4ded7d52",
   "metadata": {},
   "outputs": [
    {
     "data": {
      "text/plain": [
       "(253, 1)"
      ]
     },
     "execution_count": 19,
     "metadata": {},
     "output_type": "execute_result"
    }
   ],
   "source": [
    "X.shape"
   ]
  },
  {
   "cell_type": "code",
   "execution_count": 23,
   "id": "082c2c62",
   "metadata": {},
   "outputs": [
    {
     "data": {
      "text/plain": [
       "[1, 2, 3]"
      ]
     },
     "execution_count": 23,
     "metadata": {},
     "output_type": "execute_result"
    }
   ],
   "source": [
    "a = [1, 2, 3, 4, 5]\n",
    "\n",
    "a[:-2]"
   ]
  },
  {
   "cell_type": "code",
   "execution_count": 20,
   "id": "cca5fa1f",
   "metadata": {
    "id": "cca5fa1f"
   },
   "outputs": [],
   "source": [
    "# Eliminiamo le ultime \"n\" righe\n",
    "X = X[:-forecast_out]"
   ]
  },
  {
   "cell_type": "code",
   "execution_count": null,
   "id": "c20f18e4",
   "metadata": {},
   "outputs": [],
   "source": []
  },
  {
   "cell_type": "code",
   "execution_count": 22,
   "id": "988c4164",
   "metadata": {
    "scrolled": true
   },
   "outputs": [
    {
     "name": "stdout",
     "output_type": "stream",
     "text": [
      "(223, 1)\n"
     ]
    },
    {
     "data": {
      "text/plain": [
       "array([[379.38000488],\n",
       "       [382.04998779],\n",
       "       [375.27999878],\n",
       "       [376.26000977],\n",
       "       [382.17999268],\n",
       "       [377.57000732],\n",
       "       [378.        ],\n",
       "       [378.69000244],\n",
       "       [376.51000977],\n",
       "       [376.52999878],\n",
       "       [373.92001343],\n",
       "       [373.05999756],\n",
       "       [364.72000122],\n",
       "       [355.70001221],\n",
       "       [357.48001099],\n",
       "       [343.20999146],\n",
       "       [345.95999146],\n",
       "       [352.95999146],\n",
       "       [353.57998657],\n",
       "       [340.6499939 ],\n",
       "       [339.60998535],\n",
       "       [339.39001465],\n",
       "       [343.01000977],\n",
       "       [326.23001099],\n",
       "       [332.95999146],\n",
       "       [333.64001465],\n",
       "       [329.22000122],\n",
       "       [330.04998779],\n",
       "       [325.45001221],\n",
       "       [323.76998901],\n",
       "       [324.54000854],\n",
       "       [328.52999878],\n",
       "       [324.76000977],\n",
       "       [335.33999634],\n",
       "       [339.98999023],\n",
       "       [340.77999878],\n",
       "       [341.88000488],\n",
       "       [324.60998535],\n",
       "       [328.69000244],\n",
       "       [315.80999756],\n",
       "       [312.22000122],\n",
       "       [316.92001343],\n",
       "       [323.57000732],\n",
       "       [329.98001099],\n",
       "       [328.07998657],\n",
       "       [331.61999512],\n",
       "       [335.8500061 ],\n",
       "       [341.13000488],\n",
       "       [338.61999512],\n",
       "       [335.36999512],\n",
       "       [327.64001465],\n",
       "       [327.73999023],\n",
       "       [340.89001465],\n",
       "       [347.55999756],\n",
       "       [342.95999146],\n",
       "       [340.76998901],\n",
       "       [338.69000244],\n",
       "       [345.29998779],\n",
       "       [341.01000977],\n",
       "       [337.25      ],\n",
       "       [341.05999756],\n",
       "       [333.11999512],\n",
       "       [338.02999878],\n",
       "       [324.45999146],\n",
       "       [310.6000061 ],\n",
       "       [310.39001465],\n",
       "       [306.83999634],\n",
       "       [317.86999512],\n",
       "       [322.80999756],\n",
       "       [330.55999756],\n",
       "       [329.82000732],\n",
       "       [329.75      ],\n",
       "       [334.48999023],\n",
       "       [333.73999023],\n",
       "       [341.66000366],\n",
       "       [334.8999939 ],\n",
       "       [333.79000854],\n",
       "       [325.45001221],\n",
       "       [334.20001221],\n",
       "       [330.45001221],\n",
       "       [335.23999023],\n",
       "       [346.17999268],\n",
       "       [346.22000122],\n",
       "       [342.94000244],\n",
       "       [344.35998535],\n",
       "       [336.3500061 ],\n",
       "       [338.54000854],\n",
       "       [336.52999878],\n",
       "       [324.17001343],\n",
       "       [332.45999146],\n",
       "       [331.79000854],\n",
       "       [328.07000732],\n",
       "       [334.36999512],\n",
       "       [333.26000977],\n",
       "       [326.48001099],\n",
       "       [331.8999939 ],\n",
       "       [318.1499939 ],\n",
       "       [319.58999634],\n",
       "       [316.55999756],\n",
       "       [303.17001343],\n",
       "       [308.70999146],\n",
       "       [300.1499939 ],\n",
       "       [294.63000488],\n",
       "       [294.64001465],\n",
       "       [301.70999146],\n",
       "       [313.26000977],\n",
       "       [319.        ],\n",
       "       [323.        ],\n",
       "       [237.75999451],\n",
       "       [237.08999634],\n",
       "       [224.91000366],\n",
       "       [220.17999268],\n",
       "       [232.        ],\n",
       "       [228.07000732],\n",
       "       [219.55000305],\n",
       "       [217.69999695],\n",
       "       [221.        ],\n",
       "       [216.53999329],\n",
       "       [207.71000671],\n",
       "       [206.16000366],\n",
       "       [202.08000183],\n",
       "       [198.44999695],\n",
       "       [207.6000061 ],\n",
       "       [210.47999573],\n",
       "       [211.02999878],\n",
       "       [203.49000549],\n",
       "       [208.11000061],\n",
       "       [202.97000122],\n",
       "       [200.05999756],\n",
       "       [187.47000122],\n",
       "       [190.28999329],\n",
       "       [198.5       ],\n",
       "       [195.21000671],\n",
       "       [187.61000061],\n",
       "       [186.63000488],\n",
       "       [192.02999878],\n",
       "       [203.63000488],\n",
       "       [207.83999634],\n",
       "       [216.49000549],\n",
       "       [211.49000549],\n",
       "       [216.6499939 ],\n",
       "       [213.46000671],\n",
       "       [219.57000732],\n",
       "       [221.82000732],\n",
       "       [223.58999634],\n",
       "       [229.86000061],\n",
       "       [227.8500061 ],\n",
       "       [222.36000061],\n",
       "       [224.8500061 ],\n",
       "       [233.88999939],\n",
       "       [231.83999634],\n",
       "       [223.30000305],\n",
       "       [222.94999695],\n",
       "       [222.33000183],\n",
       "       [216.46000671],\n",
       "       [214.13999939],\n",
       "       [214.99000549],\n",
       "       [210.17999268],\n",
       "       [210.77000427],\n",
       "       [217.30999756],\n",
       "       [200.41999817],\n",
       "       [188.07000732],\n",
       "       [184.11000061],\n",
       "       [186.99000549],\n",
       "       [180.94999695],\n",
       "       [174.94999695],\n",
       "       [205.72999573],\n",
       "       [200.47000122],\n",
       "       [211.13000488],\n",
       "       [212.02999878],\n",
       "       [223.41000366],\n",
       "       [208.27999878],\n",
       "       [203.77000427],\n",
       "       [196.21000671],\n",
       "       [197.6499939 ],\n",
       "       [188.74000549],\n",
       "       [191.24000549],\n",
       "       [198.61999512],\n",
       "       [200.03999329],\n",
       "       [202.61999512],\n",
       "       [192.24000549],\n",
       "       [191.28999329],\n",
       "       [193.53999329],\n",
       "       [196.22999573],\n",
       "       [181.27999878],\n",
       "       [183.83000183],\n",
       "       [191.63000488],\n",
       "       [195.13000488],\n",
       "       [193.63999939],\n",
       "       [188.63999939],\n",
       "       [198.86000061],\n",
       "       [190.77999878],\n",
       "       [194.25      ],\n",
       "       [195.6499939 ],\n",
       "       [196.63999939],\n",
       "       [184.        ],\n",
       "       [175.57000732],\n",
       "       [164.25999451],\n",
       "       [163.72999573],\n",
       "       [169.3500061 ],\n",
       "       [160.86999512],\n",
       "       [163.74000549],\n",
       "       [157.05000305],\n",
       "       [155.8500061 ],\n",
       "       [158.75      ],\n",
       "       [170.16000366],\n",
       "       [169.49000549],\n",
       "       [160.67999268],\n",
       "       [163.94000244],\n",
       "       [161.25      ],\n",
       "       [160.02999878],\n",
       "       [168.19000244],\n",
       "       [169.77000427],\n",
       "       [172.19000244],\n",
       "       [170.88000488],\n",
       "       [162.88000488],\n",
       "       [163.27000427],\n",
       "       [163.49000549],\n",
       "       [158.05000305],\n",
       "       [164.69999695],\n",
       "       [167.22999573],\n",
       "       [175.77999878],\n",
       "       [183.08999634]])"
      ]
     },
     "execution_count": 22,
     "metadata": {},
     "output_type": "execute_result"
    }
   ],
   "source": [
    "print(X.shape)\n",
    "\n",
    "X"
   ]
  },
  {
   "cell_type": "code",
   "execution_count": 20,
   "id": "aa3e84f6",
   "metadata": {
    "id": "aa3e84f6",
    "outputId": "48b65e2a-0bd6-43b7-9c0f-20d2d505921a"
   },
   "outputs": [
    {
     "name": "stdout",
     "output_type": "stream",
     "text": [
      "[[366.55999756]\n",
      " [358.45001221]\n",
      " [355.45001221]\n",
      " [355.11999512]\n",
      " [359.36999512]\n",
      " [363.3500061 ]\n",
      " [365.51000977]\n",
      " [368.39001465]\n",
      " [364.38000488]\n",
      " [372.63000488]\n",
      " [380.66000366]\n",
      " [379.38000488]\n",
      " [382.04998779]\n",
      " [375.27999878]\n",
      " [376.26000977]\n",
      " [382.17999268]\n",
      " [377.57000732]\n",
      " [378.        ]\n",
      " [378.69000244]\n",
      " [376.51000977]\n",
      " [376.52999878]\n",
      " [373.92001343]\n",
      " [373.05999756]\n",
      " [364.72000122]\n",
      " [355.70001221]\n",
      " [357.48001099]\n",
      " [343.20999146]\n",
      " [345.95999146]\n",
      " [352.95999146]\n",
      " [353.57998657]\n",
      " [340.6499939 ]\n",
      " [339.60998535]\n",
      " [339.39001465]\n",
      " [343.01000977]\n",
      " [326.23001099]\n",
      " [332.95999146]\n",
      " [333.64001465]\n",
      " [329.22000122]\n",
      " [330.04998779]\n",
      " [325.45001221]\n",
      " [323.76998901]\n",
      " [324.54000854]\n",
      " [328.52999878]\n",
      " [324.76000977]\n",
      " [335.33999634]\n",
      " [339.98999023]\n",
      " [340.77999878]\n",
      " [341.88000488]\n",
      " [324.60998535]\n",
      " [328.69000244]\n",
      " [315.80999756]\n",
      " [312.22000122]\n",
      " [316.92001343]\n",
      " [323.57000732]\n",
      " [329.98001099]\n",
      " [328.07998657]\n",
      " [331.61999512]\n",
      " [335.8500061 ]\n",
      " [341.13000488]\n",
      " [338.61999512]\n",
      " [335.36999512]\n",
      " [327.64001465]\n",
      " [327.73999023]\n",
      " [340.89001465]\n",
      " [347.55999756]\n",
      " [342.95999146]\n",
      " [340.76998901]\n",
      " [338.69000244]\n",
      " [345.29998779]\n",
      " [341.01000977]\n",
      " [337.25      ]\n",
      " [341.05999756]\n",
      " [333.11999512]\n",
      " [338.02999878]\n",
      " [324.45999146]\n",
      " [310.6000061 ]\n",
      " [310.39001465]\n",
      " [306.83999634]\n",
      " [317.86999512]\n",
      " [322.80999756]\n",
      " [330.55999756]\n",
      " [329.82000732]\n",
      " [329.75      ]\n",
      " [334.48999023]\n",
      " [333.73999023]\n",
      " [341.66000366]\n",
      " [334.8999939 ]\n",
      " [333.79000854]\n",
      " [325.45001221]\n",
      " [334.20001221]\n",
      " [330.45001221]\n",
      " [335.23999023]\n",
      " [346.17999268]\n",
      " [346.22000122]\n",
      " [342.94000244]\n",
      " [344.35998535]\n",
      " [336.3500061 ]\n",
      " [338.54000854]\n",
      " [336.52999878]\n",
      " [324.17001343]\n",
      " [332.45999146]\n",
      " [331.79000854]\n",
      " [328.07000732]\n",
      " [334.36999512]\n",
      " [333.26000977]\n",
      " [326.48001099]\n",
      " [331.8999939 ]\n",
      " [318.1499939 ]\n",
      " [319.58999634]\n",
      " [316.55999756]\n",
      " [303.17001343]\n",
      " [308.70999146]\n",
      " [300.1499939 ]\n",
      " [294.63000488]\n",
      " [294.64001465]\n",
      " [301.70999146]\n",
      " [313.26000977]\n",
      " [319.        ]\n",
      " [323.        ]\n",
      " [237.75999451]\n",
      " [237.08999634]\n",
      " [224.91000366]\n",
      " [220.17999268]\n",
      " [232.        ]\n",
      " [228.07000732]\n",
      " [219.55000305]\n",
      " [217.69999695]\n",
      " [221.        ]\n",
      " [216.53999329]\n",
      " [207.71000671]\n",
      " [206.16000366]\n",
      " [202.08000183]\n",
      " [198.44999695]\n",
      " [207.6000061 ]\n",
      " [210.47999573]\n",
      " [211.02999878]\n",
      " [203.49000549]\n",
      " [208.11000061]\n",
      " [202.97000122]\n",
      " [200.05999756]\n",
      " [187.47000122]\n",
      " [190.28999329]\n",
      " [198.5       ]\n",
      " [195.21000671]\n",
      " [187.61000061]\n",
      " [186.63000488]\n",
      " [192.02999878]\n",
      " [203.63000488]\n",
      " [207.83999634]\n",
      " [216.49000549]\n",
      " [211.49000549]\n",
      " [216.6499939 ]\n",
      " [213.46000671]\n",
      " [219.57000732]\n",
      " [221.82000732]\n",
      " [223.58999634]\n",
      " [229.86000061]\n",
      " [227.8500061 ]\n",
      " [222.36000061]\n",
      " [224.8500061 ]\n",
      " [233.88999939]\n",
      " [231.83999634]\n",
      " [223.30000305]\n",
      " [222.94999695]\n",
      " [222.33000183]\n",
      " [216.46000671]\n",
      " [214.13999939]\n",
      " [214.99000549]\n",
      " [210.17999268]\n",
      " [210.77000427]\n",
      " [217.30999756]\n",
      " [200.41999817]\n",
      " [188.07000732]\n",
      " [184.11000061]\n",
      " [186.99000549]\n",
      " [180.94999695]\n",
      " [174.94999695]\n",
      " [205.72999573]\n",
      " [200.47000122]\n",
      " [211.13000488]\n",
      " [212.02999878]\n",
      " [223.41000366]\n",
      " [208.27999878]\n",
      " [203.77000427]\n",
      " [196.21000671]\n",
      " [197.6499939 ]\n",
      " [188.74000549]\n",
      " [191.24000549]\n",
      " [198.61999512]\n",
      " [200.03999329]\n",
      " [202.61999512]\n",
      " [192.24000549]\n",
      " [191.28999329]\n",
      " [193.53999329]\n",
      " [196.22999573]\n",
      " [181.27999878]\n",
      " [183.83000183]\n",
      " [191.63000488]\n",
      " [195.13000488]\n",
      " [193.63999939]\n",
      " [188.63999939]\n",
      " [198.86000061]\n",
      " [190.77999878]\n",
      " [194.25      ]\n",
      " [195.6499939 ]\n",
      " [196.63999939]\n",
      " [184.        ]\n",
      " [175.57000732]\n",
      " [164.25999451]\n",
      " [163.72999573]\n",
      " [169.3500061 ]\n",
      " [160.86999512]\n",
      " [163.74000549]\n",
      " [157.05000305]\n",
      " [155.8500061 ]\n",
      " [158.75      ]\n",
      " [170.16000366]\n",
      " [169.49000549]\n",
      " [160.67999268]\n",
      " [163.94000244]\n",
      " [161.25      ]\n",
      " [160.02999878]]\n"
     ]
    }
   ],
   "source": [
    "print(X)\n",
    "# attenzione, abbiamo creato una lista di liste"
   ]
  },
  {
   "cell_type": "code",
   "execution_count": 21,
   "id": "3900c42d",
   "metadata": {
    "id": "3900c42d",
    "outputId": "6cb5ea7a-9fc6-473a-c91e-2fb6184889dd"
   },
   "outputs": [
    {
     "data": {
      "text/plain": [
       "222"
      ]
     },
     "execution_count": 21,
     "metadata": {},
     "output_type": "execute_result"
    }
   ],
   "source": [
    "len(X)"
   ]
  },
  {
   "cell_type": "code",
   "execution_count": 24,
   "id": "cf376344",
   "metadata": {
    "id": "cf376344",
    "outputId": "b313ab3e-01ff-492f-e31a-9b27b50620ea"
   },
   "outputs": [
    {
     "name": "stdout",
     "output_type": "stream",
     "text": [
      "[324.54000854 328.52999878 324.76000977 335.33999634 339.98999023\n",
      " 340.77999878 341.88000488 324.60998535 328.69000244 315.80999756\n",
      " 312.22000122 316.92001343 323.57000732 329.98001099 328.07998657\n",
      " 331.61999512 335.8500061  341.13000488 338.61999512 335.36999512\n",
      " 327.64001465 327.73999023 340.89001465 347.55999756 342.95999146\n",
      " 340.76998901 338.69000244 345.29998779 341.01000977 337.25\n",
      " 341.05999756 333.11999512 338.02999878 324.45999146 310.6000061\n",
      " 310.39001465 306.83999634 317.86999512 322.80999756 330.55999756\n",
      " 329.82000732 329.75       334.48999023 333.73999023 341.66000366\n",
      " 334.8999939  333.79000854 325.45001221 334.20001221 330.45001221\n",
      " 335.23999023 346.17999268 346.22000122 342.94000244 344.35998535\n",
      " 336.3500061  338.54000854 336.52999878 324.17001343 332.45999146\n",
      " 331.79000854 328.07000732 334.36999512 333.26000977 326.48001099\n",
      " 331.8999939  318.1499939  319.58999634 316.55999756 303.17001343\n",
      " 308.70999146 300.1499939  294.63000488 294.64001465 301.70999146\n",
      " 313.26000977 319.         323.         237.75999451 237.08999634\n",
      " 224.91000366 220.17999268 232.         228.07000732 219.55000305\n",
      " 217.69999695 221.         216.53999329 207.71000671 206.16000366\n",
      " 202.08000183 198.44999695 207.6000061  210.47999573 211.02999878\n",
      " 203.49000549 208.11000061 202.97000122 200.05999756 187.47000122\n",
      " 190.28999329 198.5        195.21000671 187.61000061 186.63000488\n",
      " 192.02999878 203.63000488 207.83999634 216.49000549 211.49000549\n",
      " 216.6499939  213.46000671 219.57000732 221.82000732 223.58999634\n",
      " 229.86000061 227.8500061  222.36000061 224.8500061  233.88999939\n",
      " 231.83999634 223.30000305 222.94999695 222.33000183 216.46000671\n",
      " 214.13999939 214.99000549 210.17999268 210.77000427 217.30999756\n",
      " 200.41999817 188.07000732 184.11000061 186.99000549 180.94999695\n",
      " 174.94999695 205.72999573 200.47000122 211.13000488 212.02999878\n",
      " 223.41000366 208.27999878 203.77000427 196.21000671 197.6499939\n",
      " 188.74000549 191.24000549 198.61999512 200.03999329 202.61999512\n",
      " 192.24000549 191.28999329 193.53999329 196.22999573 181.27999878\n",
      " 183.83000183 191.63000488 195.13000488 193.63999939 188.63999939\n",
      " 198.86000061 190.77999878 194.25       195.6499939  196.63999939\n",
      " 184.         175.57000732 164.25999451 163.72999573 169.3500061\n",
      " 160.86999512 163.74000549 157.05000305 155.8500061  158.75\n",
      " 170.16000366 169.49000549 160.67999268 163.94000244 161.25\n",
      " 160.02999878 168.19000244 169.77000427 172.19000244 170.88000488\n",
      " 162.88000488 163.27000427 163.49000549 158.05000305 164.69999695\n",
      " 167.22999573 175.77999878 183.08999634 183.16999817 169.27000427\n",
      " 166.6499939  159.1499939  169.58000183 160.72000122 159.1000061\n",
      " 159.92999268 160.19000244 168.80000305 170.57000732 167.11000061\n",
      " 170.25       168.52999878 178.33999634 177.49000549 180.5\n",
      " 180.88999939 179.47000122 174.8500061  174.66000366 167.96000671\n",
      " 163.05000305 161.11000061 163.25999451 168.77999878 161.77999878\n",
      " 159.16999817 157.16000366 162.30000305          nan          nan\n",
      "          nan          nan          nan          nan          nan\n",
      "          nan          nan          nan          nan          nan\n",
      "          nan          nan          nan          nan          nan\n",
      "          nan          nan          nan          nan          nan\n",
      "          nan          nan          nan          nan          nan\n",
      "          nan          nan          nan]\n"
     ]
    }
   ],
   "source": [
    "# Creiamo il data set dipendente (y)\n",
    "# Creiamo un altro array (tutti i valori compresi gli NaN)\n",
    "y = np.array(df['Prediction'])\n",
    "print(y)"
   ]
  },
  {
   "cell_type": "code",
   "execution_count": 25,
   "id": "63fc660b",
   "metadata": {
    "id": "63fc660b",
    "outputId": "ca18f951-3ced-4565-dbd6-d8beee78a4e9"
   },
   "outputs": [
    {
     "name": "stdout",
     "output_type": "stream",
     "text": [
      "[324.54000854 328.52999878 324.76000977 335.33999634 339.98999023\n",
      " 340.77999878 341.88000488 324.60998535 328.69000244 315.80999756\n",
      " 312.22000122 316.92001343 323.57000732 329.98001099 328.07998657\n",
      " 331.61999512 335.8500061  341.13000488 338.61999512 335.36999512\n",
      " 327.64001465 327.73999023 340.89001465 347.55999756 342.95999146\n",
      " 340.76998901 338.69000244 345.29998779 341.01000977 337.25\n",
      " 341.05999756 333.11999512 338.02999878 324.45999146 310.6000061\n",
      " 310.39001465 306.83999634 317.86999512 322.80999756 330.55999756\n",
      " 329.82000732 329.75       334.48999023 333.73999023 341.66000366\n",
      " 334.8999939  333.79000854 325.45001221 334.20001221 330.45001221\n",
      " 335.23999023 346.17999268 346.22000122 342.94000244 344.35998535\n",
      " 336.3500061  338.54000854 336.52999878 324.17001343 332.45999146\n",
      " 331.79000854 328.07000732 334.36999512 333.26000977 326.48001099\n",
      " 331.8999939  318.1499939  319.58999634 316.55999756 303.17001343\n",
      " 308.70999146 300.1499939  294.63000488 294.64001465 301.70999146\n",
      " 313.26000977 319.         323.         237.75999451 237.08999634\n",
      " 224.91000366 220.17999268 232.         228.07000732 219.55000305\n",
      " 217.69999695 221.         216.53999329 207.71000671 206.16000366\n",
      " 202.08000183 198.44999695 207.6000061  210.47999573 211.02999878\n",
      " 203.49000549 208.11000061 202.97000122 200.05999756 187.47000122\n",
      " 190.28999329 198.5        195.21000671 187.61000061 186.63000488\n",
      " 192.02999878 203.63000488 207.83999634 216.49000549 211.49000549\n",
      " 216.6499939  213.46000671 219.57000732 221.82000732 223.58999634\n",
      " 229.86000061 227.8500061  222.36000061 224.8500061  233.88999939\n",
      " 231.83999634 223.30000305 222.94999695 222.33000183 216.46000671\n",
      " 214.13999939 214.99000549 210.17999268 210.77000427 217.30999756\n",
      " 200.41999817 188.07000732 184.11000061 186.99000549 180.94999695\n",
      " 174.94999695 205.72999573 200.47000122 211.13000488 212.02999878\n",
      " 223.41000366 208.27999878 203.77000427 196.21000671 197.6499939\n",
      " 188.74000549 191.24000549 198.61999512 200.03999329 202.61999512\n",
      " 192.24000549 191.28999329 193.53999329 196.22999573 181.27999878\n",
      " 183.83000183 191.63000488 195.13000488 193.63999939 188.63999939\n",
      " 198.86000061 190.77999878 194.25       195.6499939  196.63999939\n",
      " 184.         175.57000732 164.25999451 163.72999573 169.3500061\n",
      " 160.86999512 163.74000549 157.05000305 155.8500061  158.75\n",
      " 170.16000366 169.49000549 160.67999268 163.94000244 161.25\n",
      " 160.02999878 168.19000244 169.77000427 172.19000244 170.88000488\n",
      " 162.88000488 163.27000427 163.49000549 158.05000305 164.69999695\n",
      " 167.22999573 175.77999878 183.08999634 183.16999817 169.27000427\n",
      " 166.6499939  159.1499939  169.58000183 160.72000122 159.1000061\n",
      " 159.92999268 160.19000244 168.80000305 170.57000732 167.11000061\n",
      " 170.25       168.52999878 178.33999634 177.49000549 180.5\n",
      " 180.88999939 179.47000122 174.8500061  174.66000366 167.96000671\n",
      " 163.05000305 161.11000061 163.25999451 168.77999878 161.77999878\n",
      " 159.16999817 157.16000366 162.30000305]\n"
     ]
    }
   ],
   "source": [
    "# Eliminiamo gli NaN\n",
    "y = y[:-forecast_out]\n",
    "print(y)"
   ]
  },
  {
   "cell_type": "markdown",
   "id": "26d2cd16",
   "metadata": {
    "id": "26d2cd16"
   },
   "source": [
    "Creiamo i due data set di addestramento e prova (train, test)"
   ]
  },
  {
   "cell_type": "code",
   "execution_count": 26,
   "id": "115c82d9",
   "metadata": {
    "id": "115c82d9"
   },
   "outputs": [],
   "source": [
    "x_train, x_test, y_train, y_test = train_test_split(X, y, test_size=0.2)"
   ]
  },
  {
   "cell_type": "code",
   "execution_count": 27,
   "id": "5484d8be",
   "metadata": {},
   "outputs": [
    {
     "name": "stdout",
     "output_type": "stream",
     "text": [
      "(178, 1)\n",
      "(45, 1)\n",
      "(178,)\n",
      "(45,)\n"
     ]
    }
   ],
   "source": [
    "print(x_train.shape)\n",
    "print(x_test.shape)\n",
    "print(y_train.shape)\n",
    "print(y_test.shape)\n",
    "\n",
    "\n",
    "#y_train"
   ]
  },
  {
   "cell_type": "markdown",
   "id": "bdf169ea",
   "metadata": {
    "id": "bdf169ea"
   },
   "source": [
    "Creiamo e addestriamo la Support Vector Machine (Regressore)"
   ]
  },
  {
   "cell_type": "code",
   "execution_count": 25,
   "id": "046c6616",
   "metadata": {
    "id": "046c6616"
   },
   "outputs": [],
   "source": [
    "svr_rbf = SVR(kernel='rbf', C = 1e3, gamma = 0.1)"
   ]
  },
  {
   "cell_type": "code",
   "execution_count": 26,
   "id": "a9be2faf",
   "metadata": {
    "id": "a9be2faf",
    "outputId": "732df99f-2b88-4fed-e2a4-918f0c043393"
   },
   "outputs": [
    {
     "data": {
      "text/plain": [
       "SVR(C=1000.0, gamma=0.1)"
      ]
     },
     "execution_count": 26,
     "metadata": {},
     "output_type": "execute_result"
    }
   ],
   "source": [
    "svr_rbf.fit(x_train, y_train)"
   ]
  },
  {
   "cell_type": "markdown",
   "id": "d2bd3cf0",
   "metadata": {
    "id": "d2bd3cf0"
   },
   "source": [
    "Testiamo il modello. L'indice di capacità del modello è il coefficiente di determinazione R^2 della previsione,  che indica la percentuale di variabilità nella variable dipendente spiegata dal modello. \n",
    "\n",
    "Il valore di R^2 è compreso fra un minimo di 0 e un massimo di 1"
   ]
  },
  {
   "cell_type": "code",
   "execution_count": 27,
   "id": "60b3d72b",
   "metadata": {
    "id": "60b3d72b",
    "outputId": "7834bc29-88b0-4c2c-b374-8c34e96a8632"
   },
   "outputs": [
    {
     "name": "stdout",
     "output_type": "stream",
     "text": [
      "svm_confindence:  -0.04948002678179364\n"
     ]
    }
   ],
   "source": [
    "r2 = svr_rbf.score(x_test, y_test)\n",
    "print('R^2: ', r2)"
   ]
  },
  {
   "cell_type": "markdown",
   "id": "9882c2e9",
   "metadata": {
    "id": "9882c2e9"
   },
   "source": [
    "Creaimo e addestriamo un modello di regressione lineare"
   ]
  },
  {
   "cell_type": "code",
   "execution_count": 28,
   "id": "3f350cdb",
   "metadata": {
    "id": "3f350cdb"
   },
   "outputs": [],
   "source": [
    "lr = LinearRegression()"
   ]
  },
  {
   "cell_type": "code",
   "execution_count": 29,
   "id": "2dd2bf22",
   "metadata": {
    "id": "2dd2bf22",
    "outputId": "af2d6bee-c3c6-462a-85d9-60655a7db152"
   },
   "outputs": [
    {
     "data": {
      "text/plain": [
       "LinearRegression()"
      ]
     },
     "execution_count": 29,
     "metadata": {},
     "output_type": "execute_result"
    }
   ],
   "source": [
    "lr.fit(x_test, y_test)"
   ]
  },
  {
   "cell_type": "markdown",
   "id": "44b7f46f",
   "metadata": {
    "id": "44b7f46f"
   },
   "source": [
    "Testiamo il modello. L'indice di capacità del modello è il coefficiente di determinazione R^2 della previsione, che indica la percentuale di variabilità nella variable dipendente spiegata dal modello.\n",
    "\n",
    "Il valore di R^2 è compreso fra un minimo di 0 e un massimo di 1"
   ]
  },
  {
   "cell_type": "code",
   "execution_count": 30,
   "id": "58ca677d",
   "metadata": {
    "id": "58ca677d",
    "outputId": "c39710ae-b600-4b49-a280-75e139b467be"
   },
   "outputs": [
    {
     "name": "stdout",
     "output_type": "stream",
     "text": [
      "lr_confindence:  0.7063519932264433\n"
     ]
    }
   ],
   "source": [
    "lr_confindence = lr.score(x_test, y_test)\n",
    "print('lr_confindence: ', lr_confindence)"
   ]
  },
  {
   "cell_type": "markdown",
   "id": "3686cfda",
   "metadata": {
    "id": "3686cfda"
   },
   "source": [
    "Creiamo la previsione degli ultimi 30 valori"
   ]
  },
  {
   "cell_type": "code",
   "execution_count": 28,
   "id": "c8628404",
   "metadata": {
    "id": "c8628404",
    "outputId": "e2486b32-4a8e-4265-f522-60fe1c4409db",
    "scrolled": true
   },
   "outputs": [
    {
     "name": "stdout",
     "output_type": "stream",
     "text": [
      "(30, 1)\n"
     ]
    },
    {
     "name": "stderr",
     "output_type": "stream",
     "text": [
      "C:\\Users\\samue\\AppData\\Local\\Temp/ipykernel_1136/1344860845.py:1: FutureWarning: In a future version of pandas all arguments of DataFrame.drop except for the argument 'labels' will be keyword-only\n",
      "  x_forecast = np.array(df.drop(['Prediction'],1))[-forecast_out:]\n"
     ]
    }
   ],
   "source": [
    "x_forecast = np.array(df.drop(['Prediction'],1))[-forecast_out:]\n",
    "print(x_forecast.shape)"
   ]
  },
  {
   "cell_type": "code",
   "execution_count": 32,
   "id": "f41e8414",
   "metadata": {},
   "outputs": [
    {
     "data": {
      "text/html": [
       "<div>\n",
       "<style scoped>\n",
       "    .dataframe tbody tr th:only-of-type {\n",
       "        vertical-align: middle;\n",
       "    }\n",
       "\n",
       "    .dataframe tbody tr th {\n",
       "        vertical-align: top;\n",
       "    }\n",
       "\n",
       "    .dataframe thead th {\n",
       "        text-align: right;\n",
       "    }\n",
       "</style>\n",
       "<table border=\"1\" class=\"dataframe\">\n",
       "  <thead>\n",
       "    <tr style=\"text-align: right;\">\n",
       "      <th></th>\n",
       "      <th>Adj Close</th>\n",
       "      <th>Prediction</th>\n",
       "    </tr>\n",
       "    <tr>\n",
       "      <th>Date</th>\n",
       "      <th></th>\n",
       "      <th></th>\n",
       "    </tr>\n",
       "  </thead>\n",
       "  <tbody>\n",
       "    <tr>\n",
       "      <th>2022-07-18</th>\n",
       "      <td>167.229996</td>\n",
       "      <td>159.169998</td>\n",
       "    </tr>\n",
       "    <tr>\n",
       "      <th>2022-07-19</th>\n",
       "      <td>175.779999</td>\n",
       "      <td>157.160004</td>\n",
       "    </tr>\n",
       "    <tr>\n",
       "      <th>2022-07-20</th>\n",
       "      <td>183.089996</td>\n",
       "      <td>162.300003</td>\n",
       "    </tr>\n",
       "    <tr>\n",
       "      <th>2022-07-21</th>\n",
       "      <td>183.169998</td>\n",
       "      <td>NaN</td>\n",
       "    </tr>\n",
       "    <tr>\n",
       "      <th>2022-07-22</th>\n",
       "      <td>169.270004</td>\n",
       "      <td>NaN</td>\n",
       "    </tr>\n",
       "    <tr>\n",
       "      <th>2022-07-25</th>\n",
       "      <td>166.649994</td>\n",
       "      <td>NaN</td>\n",
       "    </tr>\n",
       "    <tr>\n",
       "      <th>2022-07-26</th>\n",
       "      <td>159.149994</td>\n",
       "      <td>NaN</td>\n",
       "    </tr>\n",
       "    <tr>\n",
       "      <th>2022-07-27</th>\n",
       "      <td>169.580002</td>\n",
       "      <td>NaN</td>\n",
       "    </tr>\n",
       "    <tr>\n",
       "      <th>2022-07-28</th>\n",
       "      <td>160.720001</td>\n",
       "      <td>NaN</td>\n",
       "    </tr>\n",
       "    <tr>\n",
       "      <th>2022-07-29</th>\n",
       "      <td>159.100006</td>\n",
       "      <td>NaN</td>\n",
       "    </tr>\n",
       "    <tr>\n",
       "      <th>2022-08-01</th>\n",
       "      <td>159.929993</td>\n",
       "      <td>NaN</td>\n",
       "    </tr>\n",
       "    <tr>\n",
       "      <th>2022-08-02</th>\n",
       "      <td>160.190002</td>\n",
       "      <td>NaN</td>\n",
       "    </tr>\n",
       "    <tr>\n",
       "      <th>2022-08-03</th>\n",
       "      <td>168.800003</td>\n",
       "      <td>NaN</td>\n",
       "    </tr>\n",
       "    <tr>\n",
       "      <th>2022-08-04</th>\n",
       "      <td>170.570007</td>\n",
       "      <td>NaN</td>\n",
       "    </tr>\n",
       "    <tr>\n",
       "      <th>2022-08-05</th>\n",
       "      <td>167.110001</td>\n",
       "      <td>NaN</td>\n",
       "    </tr>\n",
       "    <tr>\n",
       "      <th>2022-08-08</th>\n",
       "      <td>170.250000</td>\n",
       "      <td>NaN</td>\n",
       "    </tr>\n",
       "    <tr>\n",
       "      <th>2022-08-09</th>\n",
       "      <td>168.529999</td>\n",
       "      <td>NaN</td>\n",
       "    </tr>\n",
       "    <tr>\n",
       "      <th>2022-08-10</th>\n",
       "      <td>178.339996</td>\n",
       "      <td>NaN</td>\n",
       "    </tr>\n",
       "    <tr>\n",
       "      <th>2022-08-11</th>\n",
       "      <td>177.490005</td>\n",
       "      <td>NaN</td>\n",
       "    </tr>\n",
       "    <tr>\n",
       "      <th>2022-08-12</th>\n",
       "      <td>180.500000</td>\n",
       "      <td>NaN</td>\n",
       "    </tr>\n",
       "    <tr>\n",
       "      <th>2022-08-15</th>\n",
       "      <td>180.889999</td>\n",
       "      <td>NaN</td>\n",
       "    </tr>\n",
       "    <tr>\n",
       "      <th>2022-08-16</th>\n",
       "      <td>179.470001</td>\n",
       "      <td>NaN</td>\n",
       "    </tr>\n",
       "    <tr>\n",
       "      <th>2022-08-17</th>\n",
       "      <td>174.850006</td>\n",
       "      <td>NaN</td>\n",
       "    </tr>\n",
       "    <tr>\n",
       "      <th>2022-08-18</th>\n",
       "      <td>174.660004</td>\n",
       "      <td>NaN</td>\n",
       "    </tr>\n",
       "    <tr>\n",
       "      <th>2022-08-19</th>\n",
       "      <td>167.960007</td>\n",
       "      <td>NaN</td>\n",
       "    </tr>\n",
       "    <tr>\n",
       "      <th>2022-08-22</th>\n",
       "      <td>163.050003</td>\n",
       "      <td>NaN</td>\n",
       "    </tr>\n",
       "    <tr>\n",
       "      <th>2022-08-23</th>\n",
       "      <td>161.110001</td>\n",
       "      <td>NaN</td>\n",
       "    </tr>\n",
       "    <tr>\n",
       "      <th>2022-08-24</th>\n",
       "      <td>163.259995</td>\n",
       "      <td>NaN</td>\n",
       "    </tr>\n",
       "    <tr>\n",
       "      <th>2022-08-25</th>\n",
       "      <td>168.779999</td>\n",
       "      <td>NaN</td>\n",
       "    </tr>\n",
       "    <tr>\n",
       "      <th>2022-08-26</th>\n",
       "      <td>161.779999</td>\n",
       "      <td>NaN</td>\n",
       "    </tr>\n",
       "    <tr>\n",
       "      <th>2022-08-29</th>\n",
       "      <td>159.169998</td>\n",
       "      <td>NaN</td>\n",
       "    </tr>\n",
       "    <tr>\n",
       "      <th>2022-08-30</th>\n",
       "      <td>157.160004</td>\n",
       "      <td>NaN</td>\n",
       "    </tr>\n",
       "    <tr>\n",
       "      <th>2022-08-31</th>\n",
       "      <td>162.300003</td>\n",
       "      <td>NaN</td>\n",
       "    </tr>\n",
       "  </tbody>\n",
       "</table>\n",
       "</div>"
      ],
      "text/plain": [
       "             Adj Close  Prediction\n",
       "Date                              \n",
       "2022-07-18  167.229996  159.169998\n",
       "2022-07-19  175.779999  157.160004\n",
       "2022-07-20  183.089996  162.300003\n",
       "2022-07-21  183.169998         NaN\n",
       "2022-07-22  169.270004         NaN\n",
       "2022-07-25  166.649994         NaN\n",
       "2022-07-26  159.149994         NaN\n",
       "2022-07-27  169.580002         NaN\n",
       "2022-07-28  160.720001         NaN\n",
       "2022-07-29  159.100006         NaN\n",
       "2022-08-01  159.929993         NaN\n",
       "2022-08-02  160.190002         NaN\n",
       "2022-08-03  168.800003         NaN\n",
       "2022-08-04  170.570007         NaN\n",
       "2022-08-05  167.110001         NaN\n",
       "2022-08-08  170.250000         NaN\n",
       "2022-08-09  168.529999         NaN\n",
       "2022-08-10  178.339996         NaN\n",
       "2022-08-11  177.490005         NaN\n",
       "2022-08-12  180.500000         NaN\n",
       "2022-08-15  180.889999         NaN\n",
       "2022-08-16  179.470001         NaN\n",
       "2022-08-17  174.850006         NaN\n",
       "2022-08-18  174.660004         NaN\n",
       "2022-08-19  167.960007         NaN\n",
       "2022-08-22  163.050003         NaN\n",
       "2022-08-23  161.110001         NaN\n",
       "2022-08-24  163.259995         NaN\n",
       "2022-08-25  168.779999         NaN\n",
       "2022-08-26  161.779999         NaN\n",
       "2022-08-29  159.169998         NaN\n",
       "2022-08-30  157.160004         NaN\n",
       "2022-08-31  162.300003         NaN"
      ]
     },
     "execution_count": 32,
     "metadata": {},
     "output_type": "execute_result"
    }
   ],
   "source": [
    "df.tail(33)"
   ]
  },
  {
   "cell_type": "code",
   "execution_count": 31,
   "id": "411bcc3b",
   "metadata": {},
   "outputs": [
    {
     "name": "stderr",
     "output_type": "stream",
     "text": [
      "C:\\Users\\samue\\AppData\\Local\\Temp/ipykernel_1136/3840953546.py:1: FutureWarning: In a future version of pandas all arguments of DataFrame.drop except for the argument 'labels' will be keyword-only\n",
      "  np.array(df.drop(['Prediction'],1))[-forecast_out:]\n"
     ]
    },
    {
     "data": {
      "text/plain": [
       "array([[183.16999817],\n",
       "       [169.27000427],\n",
       "       [166.6499939 ],\n",
       "       [159.1499939 ],\n",
       "       [169.58000183],\n",
       "       [160.72000122],\n",
       "       [159.1000061 ],\n",
       "       [159.92999268],\n",
       "       [160.19000244],\n",
       "       [168.80000305],\n",
       "       [170.57000732],\n",
       "       [167.11000061],\n",
       "       [170.25      ],\n",
       "       [168.52999878],\n",
       "       [178.33999634],\n",
       "       [177.49000549],\n",
       "       [180.5       ],\n",
       "       [180.88999939],\n",
       "       [179.47000122],\n",
       "       [174.8500061 ],\n",
       "       [174.66000366],\n",
       "       [167.96000671],\n",
       "       [163.05000305],\n",
       "       [161.11000061],\n",
       "       [163.25999451],\n",
       "       [168.77999878],\n",
       "       [161.77999878],\n",
       "       [159.16999817],\n",
       "       [157.16000366],\n",
       "       [162.30000305]])"
      ]
     },
     "execution_count": 31,
     "metadata": {},
     "output_type": "execute_result"
    }
   ],
   "source": [
    "np.array(df.drop(['Prediction'],1))[-forecast_out:]"
   ]
  },
  {
   "cell_type": "code",
   "execution_count": 35,
   "id": "b38b8c09",
   "metadata": {},
   "outputs": [
    {
     "name": "stderr",
     "output_type": "stream",
     "text": [
      "C:\\Users\\samue\\AppData\\Local\\Temp/ipykernel_1136/3542389114.py:1: FutureWarning: In a future version of pandas all arguments of DataFrame.drop except for the argument 'labels' will be keyword-only\n",
      "  np.array(df.drop(['Adj Close'],1))[-32:]\n"
     ]
    },
    {
     "data": {
      "text/plain": [
       "array([[157.16000366],\n",
       "       [162.30000305],\n",
       "       [         nan],\n",
       "       [         nan],\n",
       "       [         nan],\n",
       "       [         nan],\n",
       "       [         nan],\n",
       "       [         nan],\n",
       "       [         nan],\n",
       "       [         nan],\n",
       "       [         nan],\n",
       "       [         nan],\n",
       "       [         nan],\n",
       "       [         nan],\n",
       "       [         nan],\n",
       "       [         nan],\n",
       "       [         nan],\n",
       "       [         nan],\n",
       "       [         nan],\n",
       "       [         nan],\n",
       "       [         nan],\n",
       "       [         nan],\n",
       "       [         nan],\n",
       "       [         nan],\n",
       "       [         nan],\n",
       "       [         nan],\n",
       "       [         nan],\n",
       "       [         nan],\n",
       "       [         nan],\n",
       "       [         nan],\n",
       "       [         nan],\n",
       "       [         nan]])"
      ]
     },
     "execution_count": 35,
     "metadata": {},
     "output_type": "execute_result"
    }
   ],
   "source": [
    "np.array(df.drop(['Adj Close'],1))[-32:]"
   ]
  },
  {
   "cell_type": "markdown",
   "id": "ebc5cc73",
   "metadata": {
    "id": "ebc5cc73"
   },
   "source": [
    "Previsione dei prossimi n valori con il modello di regressione lineare"
   ]
  },
  {
   "cell_type": "code",
   "execution_count": 32,
   "id": "a514fb84",
   "metadata": {
    "id": "a514fb84",
    "outputId": "11f50fbd-4f3e-4789-bbbf-23611d051b87"
   },
   "outputs": [
    {
     "name": "stdout",
     "output_type": "stream",
     "text": [
      "[167.61695728 168.84219233 170.71881457 169.7029582  163.49924363\n",
      " 163.80167424 163.97227734 159.75374954 164.91058254 166.87250633\n",
      " 173.50272864 179.17137093 179.2334095  168.45446017 166.4227356\n",
      " 160.60675319 168.69485221 161.82423785 160.56798944 161.21161441\n",
      " 161.41324271 168.08999099 169.46256615 166.77945439 169.21441189\n",
      " 167.88061231 175.48791541 174.82877783 177.16292118 177.46535179]\n"
     ]
    }
   ],
   "source": [
    "lr_prediction = lr.predict(x_forecast)\n",
    "print(lr_prediction)"
   ]
  },
  {
   "cell_type": "markdown",
   "id": "cbfa7fb5",
   "metadata": {
    "id": "cbfa7fb5"
   },
   "source": [
    "Previsione dei prossimi n valori con il modello support vector machine"
   ]
  },
  {
   "cell_type": "code",
   "execution_count": 33,
   "id": "5b9d4d7b",
   "metadata": {
    "id": "5b9d4d7b",
    "outputId": "1b294e95-4f5f-405f-ee11-246d210405ce"
   },
   "outputs": [
    {
     "name": "stdout",
     "output_type": "stream",
     "text": [
      "[176.0313335  162.64490286 232.93308741 191.82507916 129.85743843\n",
      " 141.43860731 150.10480948 186.79666671 206.7692303  208.02088482\n",
      " 152.41468476 154.46607718 155.03447236 159.13696213 225.13590827\n",
      " 200.67847368 160.45056457 165.75467463 200.63889664 191.32406976\n",
      " 184.25160656 162.63177657 181.58277162 211.99316973 172.38929586\n",
      " 167.46628457 163.91290254 144.16210998 183.30760661 177.68206113]\n"
     ]
    }
   ],
   "source": [
    "svm_prediction = svr_rbf.predict(x_forecast)\n",
    "print(svm_prediction)"
   ]
  },
  {
   "cell_type": "markdown",
   "id": "cc49b1cc",
   "metadata": {
    "id": "cc49b1cc"
   },
   "source": [
    "Qual è la previsione migliore?"
   ]
  },
  {
   "cell_type": "code",
   "execution_count": 34,
   "id": "3f8dc907",
   "metadata": {
    "id": "3f8dc907"
   },
   "outputs": [],
   "source": [
    "from sklearn.metrics import mean_squared_error\n",
    "from math import sqrt"
   ]
  },
  {
   "cell_type": "code",
   "execution_count": 35,
   "id": "a7141928",
   "metadata": {
    "id": "a7141928",
    "outputId": "b1aee5da-38ac-408d-a855-2bd982b95b8a"
   },
   "outputs": [
    {
     "name": "stdout",
     "output_type": "stream",
     "text": [
      "1.7916594765107987\n"
     ]
    }
   ],
   "source": [
    "lr_rmse = sqrt(mean_squared_error(x_forecast, lr_prediction))\n",
    "print(lr_rmse)"
   ]
  },
  {
   "cell_type": "code",
   "execution_count": 36,
   "id": "3300aecf",
   "metadata": {
    "id": "3300aecf",
    "outputId": "cd07e01e-040a-4598-e5c4-c817596d2323"
   },
   "outputs": [
    {
     "name": "stdout",
     "output_type": "stream",
     "text": [
      "28.616495127755975\n"
     ]
    }
   ],
   "source": [
    "svm_rmse = sqrt(mean_squared_error(x_forecast, svm_prediction))\n",
    "print(svm_rmse)"
   ]
  },
  {
   "cell_type": "code",
   "execution_count": 37,
   "id": "acd2ca67",
   "metadata": {
    "id": "acd2ca67",
    "outputId": "04f1c218-3461-4ac2-f893-67718ce74989"
   },
   "outputs": [
    {
     "data": {
      "image/png": "[encoded data removed]",
      "text/plain": [
       "<Figure size 432x288 with 1 Axes>"
      ]
     },
     "metadata": {
      "needs_background": "light"
     },
     "output_type": "display_data"
    }
   ],
   "source": [
    "plt.plot(x_forecast, label = 'Effettivo')\n",
    "plt.plot(lr_prediction, label = 'Prev. LR')\n",
    "plt.plot(svm_prediction, label = 'Prev. SVM')\n",
    "plt.grid(True)\n",
    "plt.legend();\n"
   ]
  },
  {
   "cell_type": "markdown",
   "id": "fabe8bb3",
   "metadata": {
    "id": "fabe8bb3"
   },
   "source": [
    "#### Previsione del prezzo di Ethereum con SVR\n",
    "https://www.youtube.com/watch?v=HiDEAWdAif0&ab_channel=ComputerScience"
   ]
  },
  {
   "cell_type": "code",
   "execution_count": 38,
   "id": "50bafd2f",
   "metadata": {
    "id": "50bafd2f"
   },
   "outputs": [],
   "source": [
    "from datetime import date, datetime\n",
    "plt.style.use('fivethirtyeight')\n",
    "import pandas_datareader.data as web\n",
    "import pandas as pd\n"
   ]
  },
  {
   "cell_type": "code",
   "execution_count": 39,
   "id": "810665c6",
   "metadata": {
    "id": "810665c6"
   },
   "outputs": [],
   "source": [
    "start_date = '2021-01-01'\n",
    "end_date = '2021-05-15'\n",
    "#end_date = datetime.today()"
   ]
  },
  {
   "cell_type": "code",
   "execution_count": 40,
   "id": "21bda080",
   "metadata": {
    "id": "21bda080"
   },
   "outputs": [],
   "source": [
    "df = web.get_data_yahoo('ETH-USD', start_date, end_date) "
   ]
  },
  {
   "cell_type": "code",
   "execution_count": 41,
   "id": "960a70ce",
   "metadata": {
    "id": "960a70ce",
    "outputId": "d455a937-72ab-458d-a0e9-2c5edd87f09d"
   },
   "outputs": [
    {
     "data": {
      "text/html": [
       "<div>\n",
       "<style scoped>\n",
       "    .dataframe tbody tr th:only-of-type {\n",
       "        vertical-align: middle;\n",
       "    }\n",
       "\n",
       "    .dataframe tbody tr th {\n",
       "        vertical-align: top;\n",
       "    }\n",
       "\n",
       "    .dataframe thead th {\n",
       "        text-align: right;\n",
       "    }\n",
       "</style>\n",
       "<table border=\"1\" class=\"dataframe\">\n",
       "  <thead>\n",
       "    <tr style=\"text-align: right;\">\n",
       "      <th></th>\n",
       "      <th>High</th>\n",
       "      <th>Low</th>\n",
       "      <th>Open</th>\n",
       "      <th>Close</th>\n",
       "      <th>Volume</th>\n",
       "      <th>Adj Close</th>\n",
       "    </tr>\n",
       "    <tr>\n",
       "      <th>Date</th>\n",
       "      <th></th>\n",
       "      <th></th>\n",
       "      <th></th>\n",
       "      <th></th>\n",
       "      <th></th>\n",
       "      <th></th>\n",
       "    </tr>\n",
       "  </thead>\n",
       "  <tbody>\n",
       "    <tr>\n",
       "      <th>2021-01-01</th>\n",
       "      <td>749.201843</td>\n",
       "      <td>719.792236</td>\n",
       "      <td>737.708374</td>\n",
       "      <td>730.367554</td>\n",
       "      <td>13652004358</td>\n",
       "      <td>730.367554</td>\n",
       "    </tr>\n",
       "    <tr>\n",
       "      <th>2021-01-02</th>\n",
       "      <td>786.798462</td>\n",
       "      <td>718.109497</td>\n",
       "      <td>730.402649</td>\n",
       "      <td>774.534973</td>\n",
       "      <td>19740771179</td>\n",
       "      <td>774.534973</td>\n",
       "    </tr>\n",
       "    <tr>\n",
       "      <th>2021-01-03</th>\n",
       "      <td>1006.565002</td>\n",
       "      <td>771.561646</td>\n",
       "      <td>774.511841</td>\n",
       "      <td>975.507690</td>\n",
       "      <td>45200463368</td>\n",
       "      <td>975.507690</td>\n",
       "    </tr>\n",
       "    <tr>\n",
       "      <th>2021-01-04</th>\n",
       "      <td>1153.189209</td>\n",
       "      <td>912.305359</td>\n",
       "      <td>977.058838</td>\n",
       "      <td>1040.233032</td>\n",
       "      <td>56945985763</td>\n",
       "      <td>1040.233032</td>\n",
       "    </tr>\n",
       "    <tr>\n",
       "      <th>2021-01-05</th>\n",
       "      <td>1129.371460</td>\n",
       "      <td>986.811279</td>\n",
       "      <td>1041.498779</td>\n",
       "      <td>1100.006104</td>\n",
       "      <td>41535932781</td>\n",
       "      <td>1100.006104</td>\n",
       "    </tr>\n",
       "  </tbody>\n",
       "</table>\n",
       "</div>"
      ],
      "text/plain": [
       "                   High         Low         Open        Close       Volume  \\\n",
       "Date                                                                         \n",
       "2021-01-01   749.201843  719.792236   737.708374   730.367554  13652004358   \n",
       "2021-01-02   786.798462  718.109497   730.402649   774.534973  19740771179   \n",
       "2021-01-03  1006.565002  771.561646   774.511841   975.507690  45200463368   \n",
       "2021-01-04  1153.189209  912.305359   977.058838  1040.233032  56945985763   \n",
       "2021-01-05  1129.371460  986.811279  1041.498779  1100.006104  41535932781   \n",
       "\n",
       "              Adj Close  \n",
       "Date                     \n",
       "2021-01-01   730.367554  \n",
       "2021-01-02   774.534973  \n",
       "2021-01-03   975.507690  \n",
       "2021-01-04  1040.233032  \n",
       "2021-01-05  1100.006104  "
      ]
     },
     "execution_count": 41,
     "metadata": {},
     "output_type": "execute_result"
    }
   ],
   "source": [
    "df.head()"
   ]
  },
  {
   "cell_type": "code",
   "execution_count": 42,
   "id": "a4ed933c",
   "metadata": {
    "id": "a4ed933c"
   },
   "outputs": [],
   "source": [
    "future_days = 5"
   ]
  },
  {
   "cell_type": "code",
   "execution_count": 43,
   "id": "8983a471",
   "metadata": {
    "id": "8983a471"
   },
   "outputs": [],
   "source": [
    "# Creiamo una  nuova colonna con i prezzi futuri"
   ]
  },
  {
   "cell_type": "code",
   "execution_count": 44,
   "id": "af979e5c",
   "metadata": {
    "id": "af979e5c"
   },
   "outputs": [],
   "source": [
    "df[str(future_days) + '_Day_Price_Forecast'] = df[['Close']].shift(-future_days)"
   ]
  },
  {
   "cell_type": "code",
   "execution_count": 45,
   "id": "010d4748",
   "metadata": {
    "id": "010d4748",
    "outputId": "4a58811c-a663-4124-99e4-5eae2aa329c9"
   },
   "outputs": [
    {
     "data": {
      "text/html": [
       "<div>\n",
       "<style scoped>\n",
       "    .dataframe tbody tr th:only-of-type {\n",
       "        vertical-align: middle;\n",
       "    }\n",
       "\n",
       "    .dataframe tbody tr th {\n",
       "        vertical-align: top;\n",
       "    }\n",
       "\n",
       "    .dataframe thead th {\n",
       "        text-align: right;\n",
       "    }\n",
       "</style>\n",
       "<table border=\"1\" class=\"dataframe\">\n",
       "  <thead>\n",
       "    <tr style=\"text-align: right;\">\n",
       "      <th></th>\n",
       "      <th>High</th>\n",
       "      <th>Low</th>\n",
       "      <th>Open</th>\n",
       "      <th>Close</th>\n",
       "      <th>Volume</th>\n",
       "      <th>Adj Close</th>\n",
       "      <th>5_Day_Price_Forecast</th>\n",
       "    </tr>\n",
       "    <tr>\n",
       "      <th>Date</th>\n",
       "      <th></th>\n",
       "      <th></th>\n",
       "      <th></th>\n",
       "      <th></th>\n",
       "      <th></th>\n",
       "      <th></th>\n",
       "      <th></th>\n",
       "    </tr>\n",
       "  </thead>\n",
       "  <tbody>\n",
       "    <tr>\n",
       "      <th>2021-05-10</th>\n",
       "      <td>4197.473145</td>\n",
       "      <td>3684.451660</td>\n",
       "      <td>3924.413330</td>\n",
       "      <td>3952.293945</td>\n",
       "      <td>62691789007</td>\n",
       "      <td>3952.293945</td>\n",
       "      <td>3638.122070</td>\n",
       "    </tr>\n",
       "    <tr>\n",
       "      <th>2021-05-11</th>\n",
       "      <td>4178.208984</td>\n",
       "      <td>3783.889404</td>\n",
       "      <td>3948.271973</td>\n",
       "      <td>4168.701172</td>\n",
       "      <td>52679737865</td>\n",
       "      <td>4168.701172</td>\n",
       "      <td>3587.506104</td>\n",
       "    </tr>\n",
       "    <tr>\n",
       "      <th>2021-05-12</th>\n",
       "      <td>4362.350586</td>\n",
       "      <td>3785.848633</td>\n",
       "      <td>4174.635742</td>\n",
       "      <td>3785.848633</td>\n",
       "      <td>69023382175</td>\n",
       "      <td>3785.848633</td>\n",
       "      <td>NaN</td>\n",
       "    </tr>\n",
       "    <tr>\n",
       "      <th>2021-05-13</th>\n",
       "      <td>4032.563477</td>\n",
       "      <td>3549.407227</td>\n",
       "      <td>3828.918457</td>\n",
       "      <td>3715.148438</td>\n",
       "      <td>78398214539</td>\n",
       "      <td>3715.148438</td>\n",
       "      <td>NaN</td>\n",
       "    </tr>\n",
       "    <tr>\n",
       "      <th>2021-05-14</th>\n",
       "      <td>4171.017090</td>\n",
       "      <td>3703.399902</td>\n",
       "      <td>3720.122314</td>\n",
       "      <td>4079.057373</td>\n",
       "      <td>48174271215</td>\n",
       "      <td>4079.057373</td>\n",
       "      <td>NaN</td>\n",
       "    </tr>\n",
       "    <tr>\n",
       "      <th>2021-05-15</th>\n",
       "      <td>4129.185547</td>\n",
       "      <td>3638.122070</td>\n",
       "      <td>4075.951660</td>\n",
       "      <td>3638.122070</td>\n",
       "      <td>42422321751</td>\n",
       "      <td>3638.122070</td>\n",
       "      <td>NaN</td>\n",
       "    </tr>\n",
       "    <tr>\n",
       "      <th>2021-05-16</th>\n",
       "      <td>3878.895996</td>\n",
       "      <td>3350.951660</td>\n",
       "      <td>3641.830811</td>\n",
       "      <td>3587.506104</td>\n",
       "      <td>47359478734</td>\n",
       "      <td>3587.506104</td>\n",
       "      <td>NaN</td>\n",
       "    </tr>\n",
       "  </tbody>\n",
       "</table>\n",
       "</div>"
      ],
      "text/plain": [
       "                   High          Low         Open        Close       Volume  \\\n",
       "Date                                                                          \n",
       "2021-05-10  4197.473145  3684.451660  3924.413330  3952.293945  62691789007   \n",
       "2021-05-11  4178.208984  3783.889404  3948.271973  4168.701172  52679737865   \n",
       "2021-05-12  4362.350586  3785.848633  4174.635742  3785.848633  69023382175   \n",
       "2021-05-13  4032.563477  3549.407227  3828.918457  3715.148438  78398214539   \n",
       "2021-05-14  4171.017090  3703.399902  3720.122314  4079.057373  48174271215   \n",
       "2021-05-15  4129.185547  3638.122070  4075.951660  3638.122070  42422321751   \n",
       "2021-05-16  3878.895996  3350.951660  3641.830811  3587.506104  47359478734   \n",
       "\n",
       "              Adj Close  5_Day_Price_Forecast  \n",
       "Date                                           \n",
       "2021-05-10  3952.293945           3638.122070  \n",
       "2021-05-11  4168.701172           3587.506104  \n",
       "2021-05-12  3785.848633                   NaN  \n",
       "2021-05-13  3715.148438                   NaN  \n",
       "2021-05-14  4079.057373                   NaN  \n",
       "2021-05-15  3638.122070                   NaN  \n",
       "2021-05-16  3587.506104                   NaN  "
      ]
     },
     "execution_count": 45,
     "metadata": {},
     "output_type": "execute_result"
    }
   ],
   "source": [
    "df.tail(7)"
   ]
  },
  {
   "cell_type": "markdown",
   "id": "c37e65f0",
   "metadata": {
    "id": "c37e65f0"
   },
   "source": [
    "Creiamo il data set per la previsione"
   ]
  },
  {
   "cell_type": "code",
   "execution_count": 46,
   "id": "1ec6ab4a",
   "metadata": {
    "id": "1ec6ab4a"
   },
   "outputs": [],
   "source": [
    "X = np.array(df[['Close']])\n",
    "X = X[:df.shape[0] - future_days]"
   ]
  },
  {
   "cell_type": "code",
   "execution_count": 47,
   "id": "8e3ece53",
   "metadata": {
    "id": "8e3ece53",
    "outputId": "462db5e4-3f31-4050-a4e3-00b1c92d2429"
   },
   "outputs": [
    {
     "data": {
      "text/plain": [
       "(136, 7)"
      ]
     },
     "execution_count": 47,
     "metadata": {},
     "output_type": "execute_result"
    }
   ],
   "source": [
    "df.shape"
   ]
  },
  {
   "cell_type": "code",
   "execution_count": 48,
   "id": "efb2e5a3",
   "metadata": {
    "id": "efb2e5a3",
    "outputId": "cb289791-b883-4cdb-ab88-3a7045b1fa17"
   },
   "outputs": [
    {
     "data": {
      "text/plain": [
       "136"
      ]
     },
     "execution_count": 48,
     "metadata": {},
     "output_type": "execute_result"
    }
   ],
   "source": [
    "df.shape[0]"
   ]
  },
  {
   "cell_type": "code",
   "execution_count": 49,
   "id": "07bc3854",
   "metadata": {
    "id": "07bc3854"
   },
   "outputs": [],
   "source": [
    "y = np.array(df[str(future_days) + '_Day_Price_Forecast'])"
   ]
  },
  {
   "cell_type": "code",
   "execution_count": 50,
   "id": "0713d47c",
   "metadata": {
    "id": "0713d47c",
    "outputId": "3612be8e-c0f5-42fe-c5db-12768718a190",
    "scrolled": true
   },
   "outputs": [
    {
     "name": "stdout",
     "output_type": "stream",
     "text": [
      "[1207.11218262 1225.67810059 1224.19714355 1281.07727051 1262.2467041\n",
      " 1090.14538574 1043.43457031 1130.73937988 1218.45300293 1171.83459473\n",
      " 1233.53759766 1230.17224121 1257.27954102 1377.29589844 1382.27404785\n",
      " 1121.57092285 1236.51220703 1230.99060059 1391.609375   1324.41479492\n",
      " 1357.05810547 1253.18713379 1332.4921875  1382.52282715 1376.11547852\n",
      " 1314.98620605 1369.04052734 1515.19372559 1660.9095459  1594.76269531\n",
      " 1718.65087891 1677.84680176 1614.2277832  1746.61682129 1768.03503418\n",
      " 1744.2434082  1783.79797363 1843.53259277 1814.10986328 1805.08410645\n",
      " 1779.79101562 1781.06750488 1848.45825195 1937.44921875 1960.16479492\n",
      " 1919.53405762 1935.60107422 1781.99291992 1570.20397949 1626.57568359\n",
      " 1475.70373535 1446.03369141 1459.97314453 1416.0489502  1564.7076416\n",
      " 1492.60876465 1575.85314941 1541.91430664 1533.27502441 1654.74157715\n",
      " 1723.15380859 1834.72790527 1868.04882812 1799.16625977 1826.19494629\n",
      " 1772.10241699 1924.6854248  1854.56433105 1791.70227051 1806.97180176\n",
      " 1823.44934082 1782.85510254 1817.62414551 1812.63464355 1788.21704102\n",
      " 1691.33398438 1678.65014648 1593.41345215 1595.35925293 1702.84204102\n",
      " 1716.49462891 1691.35595703 1819.68493652 1846.03369141 1918.36206055\n",
      " 1977.27685547 2143.22558594 2028.42248535 2093.12280273 2107.88720703\n",
      " 2118.37890625 1971.07727051 2088.57373047 2072.10888672 2135.94213867\n",
      " 2157.65698242 2139.35327148 2299.18774414 2435.10498047 2519.11621094\n",
      " 2431.9465332  2344.89501953 2237.13696289 2166.1887207  2330.2109375\n",
      " 2364.75170898 2403.53515625 2363.58618164 2211.62573242 2316.05957031\n",
      " 2534.48168945 2662.86523438 2746.38012695 2756.87695312 2773.20703125\n",
      " 2945.89282227 2952.05615234 3431.08618164 3253.62939453 3522.78320312\n",
      " 3490.88037109 3484.72900391 3902.64770508 3928.84472656 3952.29394531\n",
      " 4168.70117188 3785.84863281 3715.1484375  4079.05737305 3638.12207031\n",
      " 3587.50610352]\n"
     ]
    }
   ],
   "source": [
    "y = y[:-future_days]\n",
    "print(y)"
   ]
  },
  {
   "cell_type": "markdown",
   "id": "c40b3de3",
   "metadata": {
    "id": "c40b3de3"
   },
   "source": [
    "Creiamo il data set di addestramento e test"
   ]
  },
  {
   "cell_type": "code",
   "execution_count": 51,
   "id": "2d41df04",
   "metadata": {
    "id": "2d41df04"
   },
   "outputs": [],
   "source": [
    "x_train, x_test, y_train, y_test = train_test_split(X, y, test_size = 0.2)"
   ]
  },
  {
   "cell_type": "code",
   "execution_count": 52,
   "id": "3c9fc27e",
   "metadata": {
    "id": "3c9fc27e",
    "outputId": "5a16988c-1c72-4e20-f0a5-b73c009657ba"
   },
   "outputs": [
    {
     "data": {
      "text/plain": [
       "SVR(C=1000.0, gamma=1e-05)"
      ]
     },
     "execution_count": 52,
     "metadata": {},
     "output_type": "execute_result"
    }
   ],
   "source": [
    "svr_rbf = SVR(kernel='rbf', C = 1e3, gamma = 0.00001)\n",
    "svr_rbf.fit(x_train,y_train)"
   ]
  },
  {
   "cell_type": "code",
   "execution_count": 53,
   "id": "901086bc",
   "metadata": {
    "id": "901086bc",
    "outputId": "d66c005f-464e-4d93-b7cd-0df3287f9882"
   },
   "outputs": [
    {
     "name": "stdout",
     "output_type": "stream",
     "text": [
      "svr_rbf confidence score is:  0.9485912372368843\n"
     ]
    }
   ],
   "source": [
    "svr_rbf_confidence = svr_rbf.score(x_test, y_test)\n",
    "print('svr_rbf confidence score is: ', svr_rbf_confidence)"
   ]
  },
  {
   "cell_type": "code",
   "execution_count": 54,
   "id": "1a379bac",
   "metadata": {
    "id": "1a379bac"
   },
   "outputs": [],
   "source": [
    "svm_prediction = svr_rbf.predict(x_test)"
   ]
  },
  {
   "cell_type": "code",
   "execution_count": 55,
   "id": "d240babe",
   "metadata": {
    "id": "d240babe",
    "outputId": "1babb0e9-5d67-42b1-da19-b2247ddbdeef"
   },
   "outputs": [
    {
     "name": "stdout",
     "output_type": "stream",
     "text": [
      "[1171.83459473 1716.49462891 1799.16625977 1314.98620605 1854.56433105\n",
      " 1814.10986328 2139.35327148 1691.33398438 1594.76269531 2093.12280273\n",
      " 1377.29589844 4079.05737305 1230.99060059 1492.60876465 2364.75170898\n",
      " 2773.20703125 1846.03369141 2945.89282227 1678.65014648 3928.84472656\n",
      " 1843.53259277 1783.79797363 1781.06750488 1416.0489502  3638.12207031\n",
      " 3522.78320312 3253.62939453]\n"
     ]
    }
   ],
   "source": [
    "print(y_test)"
   ]
  },
  {
   "cell_type": "code",
   "execution_count": 56,
   "id": "f262a780",
   "metadata": {
    "id": "f262a780",
    "outputId": "7b487115-08f8-46c4-938f-dd39797e371b",
    "scrolled": true
   },
   "outputs": [
    {
     "data": {
      "image/png": "[encoded data removed]",
      "text/plain": [
       "<Figure size 864x288 with 1 Axes>"
      ]
     },
     "metadata": {},
     "output_type": "display_data"
    }
   ],
   "source": [
    "plt.figure(figsize=(12,4))\n",
    "plt.plot(svm_prediction, label = 'Previsto', linewidth = '1', color ='b', alpha = .7)\n",
    "plt.plot(y_test, label = 'Effettivo', linewidth = '1', color ='r', alpha = .7)\n",
    "plt.title('Prezz di Ethereum - Previsto verso realizzato')\n",
    "plt.ylabel('Prezzo in US$')\n",
    "plt.xlabel('Tempo')\n",
    "plt.legend()\n",
    "plt.xticks(rotation = 45)\n",
    "plt.show();\n"
   ]
  },
  {
   "cell_type": "code",
   "execution_count": null,
   "id": "32749754",
   "metadata": {
    "id": "32749754"
   },
   "outputs": [],
   "source": []
  }
 ],
 "metadata": {
  "colab": {
   "name": "ML_SVM_1.ipynb",
   "provenance": []
  },
  "kernelspec": {
   "display_name": "Python 3 (ipykernel)",
   "language": "python",
   "name": "python3"
  },
  "language_info": {
   "codemirror_mode": {
    "name": "ipython",
    "version": 3
   },
   "file_extension": ".py",
   "mimetype": "text/x-python",
   "name": "python",
   "nbconvert_exporter": "python",
   "pygments_lexer": "ipython3",
   "version": "3.9.7"
  }
 },
 "nbformat": 4,
 "nbformat_minor": 5
}
